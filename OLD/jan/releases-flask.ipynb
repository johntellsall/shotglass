{
 "cells": [
  {
   "cell_type": "code",
   "execution_count": 1,
   "metadata": {},
   "outputs": [
    {
     "name": "stdout",
     "output_type": "stream",
     "text": [
      "[('3.37.2',)]\n"
     ]
    }
   ],
   "source": [
    "import sqlite3\n",
    "\n",
    "import semver\n",
    "\n",
    "\n",
    "def queryall(con, sql):\n",
    "    return list(con.execute(sql))\n",
    "\n",
    "\n",
    "con = sqlite3.connect(\"jan.db\")\n",
    "\n",
    "print(list(con.execute(\"select sqlite_version()\")))"
   ]
  },
  {
   "cell_type": "code",
   "execution_count": 5,
   "metadata": {},
   "outputs": [
    {
     "name": "stdout",
     "output_type": "stream",
     "text": [
      "['0.1', '0.10', '0.11', '0.12', '0.2', '0.3', '0.4', '0.5', '0.6', '0.7', '0.8', '0.9', '1.0', '1.1.0', '2.0.0']\n"
     ]
    }
   ],
   "source": [
    "# print(queryall(con, 'select count(*) from file_hash'))\n",
    "\n",
    "# queryall(con, \"SELECT load_extension('/usr/lib/sqlite3/pcre.so');\")\n",
    "\n",
    "sql_all_releases = \"\"\"\n",
    "select distinct(release) from file_hash\n",
    "where project_name='flask'\n",
    "\"\"\"\n",
    "ALL_RELS = [row[0] for row in queryall(con, sql_all_releases)]\n",
    "print(ALL_RELS)"
   ]
  },
  {
   "cell_type": "code",
   "execution_count": 22,
   "metadata": {},
   "outputs": [
    {
     "name": "stdout",
     "output_type": "stream",
     "text": [
      "0.1 {'flask.py': 25871, 'setup.py': 1571}\n",
      "0.2 {'flask.py': 43971, 'setup.py': 1591}\n",
      "0.3 {'flask.py': 55220, 'setup.py': 1591}\n",
      "0.4 {'flask.py': 59156, 'setup.py': 1789}\n",
      "0.5 {'flask/__init__.py': 918, 'flask/app.py': 33506, 'flask/config.py': 5542, 'flask/ctx.py': 2098, 'flask/globals.py': 579, 'flask/helpers.py': 14669, 'flask/logging.py': 1313, 'flask/module.py': 7544, 'flask/session.py': 1268, 'flask/templating.py': 2710, 'flask/testing.py': 1356, 'flask/wrappers.py': 2353, 'setup.py': 1787}\n",
      "0.6 {'flask/__init__.py': 1100, 'flask/app.py': 36667, 'flask/config.py': 5542, 'flask/ctx.py': 2095, 'flask/globals.py': 579, 'flask/helpers.py': 17136, 'flask/logging.py': 1312, 'flask/module.py': 8363, 'flask/session.py': 1269, 'flask/signals.py': 1826, 'flask/templating.py': 3038, 'flask/testing.py': 1356, 'flask/wrappers.py': 3026, 'setup.py': 1787}\n",
      "0.7 {'flask/__init__.py': 1225, 'flask/app.py': 55236, 'flask/blueprints.py': 12791, 'flask/config.py': 5980, 'flask/ctx.py': 5540, 'flask/globals.py': 768, 'flask/helpers.py': 21559, 'flask/logging.py': 1350, 'flask/module.py': 1363, 'flask/session.py': 1269, 'flask/signals.py': 1889, 'flask/templating.py': 4444, 'flask/testing.py': 2318, 'flask/views.py': 4051, 'flask/wrappers.py': 3894, 'scripts/flask-07-upgrade.py': 10777, 'scripts/make-release.py': 4041, 'scripts/testproj/test.py': 886, 'setup.py': 3102}\n",
      "0.8 {'flask/__init__.py': 1324, 'flask/app.py': 64370, 'flask/blueprints.py': 13253, 'flask/config.py': 6148, 'flask/ctx.py': 6771, 'flask/debughelpers.py': 3279, 'flask/ext/__init__.py': 842, 'flask/exthook.py': 5055, 'flask/globals.py': 775, 'flask/helpers.py': 24242, 'flask/logging.py': 1350, 'flask/module.py': 1363, 'flask/session.py': 431, 'flask/sessions.py': 8238, 'flask/signals.py': 1904, 'flask/templating.py': 4417, 'flask/testing.py': 4834, 'flask/views.py': 5634, 'flask/wrappers.py': 5136, 'run-tests.py': 140, 'scripts/flask-07-upgrade.py': 10777, 'scripts/flaskext_compat.py': 5004, 'scripts/flaskext_test.py': 9665, 'scripts/make-release.py': 4029, 'scripts/testproj/test.py': 886, 'setup.py': 2897}\n",
      "0.9 {'flask/__init__.py': 1418, 'flask/app.py': 71621, 'flask/blueprints.py': 14240, 'flask/config.py': 6150, 'flask/ctx.py': 10860, 'flask/debughelpers.py': 3279, 'flask/exceptions.py': 1462, 'flask/ext/__init__.py': 842, 'flask/exthook.py': 5055, 'flask/globals.py': 940, 'flask/helpers.py': 34898, 'flask/logging.py': 1398, 'flask/module.py': 1363, 'flask/session.py': 462, 'flask/sessions.py': 8238, 'flask/signals.py': 1973, 'flask/templating.py': 4595, 'flask/testing.py': 4834, 'flask/views.py': 5610, 'flask/wrappers.py': 5607, 'run-tests.py': 140, 'scripts/flask-07-upgrade.py': 10777, 'scripts/flaskext_compat.py': 5034, 'scripts/flaskext_test.py': 9665, 'scripts/make-release.py': 4029, 'scripts/testproj/test.py': 886, 'setup.py': 3039}\n",
      "0.10 {'flask/__init__.py': 1672, 'flask/_compat.py': 2164, 'flask/app.py': 76786, 'flask/blueprints.py': 16320, 'flask/config.py': 6234, 'flask/ctx.py': 14266, 'flask/debughelpers.py': 3508, 'flask/ext/__init__.py': 842, 'flask/exthook.py': 5087, 'flask/globals.py': 1137, 'flask/helpers.py': 33793, 'flask/json.py': 7530, 'flask/logging.py': 1398, 'flask/module.py': 1363, 'flask/sessions.py': 12882, 'flask/signals.py': 2140, 'flask/templating.py': 4707, 'flask/testing.py': 5003, 'flask/views.py': 5642, 'flask/wrappers.py': 6709, 'run-tests.py': 140, 'scripts/flask-07-upgrade.py': 10659, 'scripts/flaskext_compat.py': 5023, 'scripts/flaskext_test.py': 9626, 'scripts/make-release.py': 4029, 'scripts/testproj/test.py': 886, 'setup.py': 3088}\n",
      "0.11 {'flask/__init__.py': 1671, 'flask/__main__.py': 291, 'flask/_compat.py': 2490, 'flask/app.py': 83370, 'flask/blueprints.py': 16872, 'flask/cli.py': 16941, 'flask/config.py': 9602, 'flask/ctx.py': 14739, 'flask/debughelpers.py': 6024, 'flask/ext/__init__.py': 842, 'flask/exthook.py': 5748, 'flask/globals.py': 1645, 'flask/helpers.py': 37384, 'flask/json.py': 9261, 'flask/logging.py': 2683, 'flask/sessions.py': 14333, 'flask/signals.py': 2209, 'flask/templating.py': 4912, 'flask/testing.py': 5101, 'flask/views.py': 5632, 'flask/wrappers.py': 7538, 'scripts/flask-07-upgrade.py': 10659, 'scripts/flaskext_compat.py': 5038, 'scripts/flaskext_tester.py': 9639, 'scripts/make-release.py': 3843, 'setup.py': 2384}\n",
      "0.12 {'flask/__init__.py': 1671, 'flask/__main__.py': 291, 'flask/_compat.py': 2802, 'flask/app.py': 83085, 'flask/blueprints.py': 16872, 'flask/cli.py': 18091, 'flask/config.py': 9894, 'flask/ctx.py': 14739, 'flask/debughelpers.py': 6024, 'flask/ext/__init__.py': 842, 'flask/exthook.py': 5762, 'flask/globals.py': 1645, 'flask/helpers.py': 38449, 'flask/json.py': 9183, 'flask/logging.py': 2751, 'flask/sessions.py': 14394, 'flask/signals.py': 2209, 'flask/templating.py': 4912, 'flask/testing.py': 5630, 'flask/views.py': 5630, 'flask/wrappers.py': 7612, 'scripts/flask-07-upgrade.py': 10698, 'scripts/flaskext_compat.py': 5038, 'scripts/flaskext_tester.py': 9639, 'scripts/make-release.py': 3887, 'setup.py': 2468}\n",
      "1.0 {'flask/__init__.py': 1671, 'flask/__main__.py': 291, 'flask/_compat.py': 2892, 'flask/app.py': 94006, 'flask/blueprints.py': 18203, 'flask/cli.py': 29325, 'flask/config.py': 9951, 'flask/ctx.py': 16224, 'flask/debughelpers.py': 6479, 'flask/globals.py': 1649, 'flask/helpers.py': 39714, 'flask/json/__init__.py': 10729, 'flask/json/tag.py': 8223, 'flask/logging.py': 2231, 'flask/sessions.py': 14452, 'flask/signals.py': 2211, 'flask/templating.py': 4914, 'flask/testing.py': 9379, 'flask/views.py': 5733, 'flask/wrappers.py': 7511, 'scripts/make-release.py': 3883, 'setup.py': 2620}\n",
      "0.1    ['-', '-', '-', '-', '-', '-', '-', '-', '-', '-', '-', '-', '-', '-', '-', '-', '-', '-', '-', '-', '-', 1571]\n",
      "0.2    ['-', '-', '-', '-', '-', '-', '-', '-', '-', '-', '-', '-', '-', '-', '-', '-', '-', '-', '-', '-', '-', 1591]\n",
      "0.3    ['-', '-', '-', '-', '-', '-', '-', '-', '-', '-', '-', '-', '-', '-', '-', '-', '-', '-', '-', '-', '-', 1591]\n",
      "0.4    ['-', '-', '-', '-', '-', '-', '-', '-', '-', '-', '-', '-', '-', '-', '-', '-', '-', '-', '-', '-', '-', 1789]\n",
      "0.5    [918, '-', '-', 33506, '-', '-', 5542, 2098, '-', 579, 14669, '-', '-', 1313, '-', '-', 2710, 1356, '-', 2353, '-', 1787]\n",
      "0.6    [1100, '-', '-', 36667, '-', '-', 5542, 2095, '-', 579, 17136, '-', '-', 1312, '-', 1826, 3038, 1356, '-', 3026, '-', 1787]\n",
      "0.7    [1225, '-', '-', 55236, 12791, '-', 5980, 5540, '-', 768, 21559, '-', '-', 1350, '-', 1889, 4444, 2318, 4051, 3894, 4041, 3102]\n",
      "0.8    [1324, '-', '-', 64370, 13253, '-', 6148, 6771, 3279, 775, 24242, '-', '-', 1350, 8238, 1904, 4417, 4834, 5634, 5136, 4029, 2897]\n",
      "0.9    [1418, '-', '-', 71621, 14240, '-', 6150, 10860, 3279, 940, 34898, '-', '-', 1398, 8238, 1973, 4595, 4834, 5610, 5607, 4029, 3039]\n",
      "0.10   [1672, '-', 2164, 76786, 16320, '-', 6234, 14266, 3508, 1137, 33793, '-', '-', 1398, 12882, 2140, 4707, 5003, 5642, 6709, 4029, 3088]\n",
      "0.11   [1671, 291, 2490, 83370, 16872, 16941, 9602, 14739, 6024, 1645, 37384, '-', '-', 2683, 14333, 2209, 4912, 5101, 5632, 7538, 3843, 2384]\n",
      "0.12   [1671, 291, 2802, 83085, 16872, 18091, 9894, 14739, 6024, 1645, 38449, '-', '-', 2751, 14394, 2209, 4912, 5630, 5630, 7612, 3887, 2468]\n",
      "1.0    [1671, 291, 2892, 94006, 18203, 29325, 9951, 16224, 6479, 1649, 39714, 10729, 8223, 2231, 14452, 2211, 4914, 9379, 5733, 7511, 3883, 2620]\n"
     ]
    }
   ],
   "source": [
    "RELS = [\"0.2\", \"0.6\", \"1.0\", \"2.0.0\"]\n",
    "RELS = [\n",
    "    \"0.1\",\n",
    "    \"0.2\",\n",
    "    \"0.3\",\n",
    "    \"0.4\",\n",
    "    \"0.5\",\n",
    "    \"0.6\",\n",
    "    \"0.7\",\n",
    "    \"0.8\",\n",
    "    \"0.9\",\n",
    "    \"0.10\",\n",
    "    \"0.11\",\n",
    "    \"0.12\",\n",
    "    \"1.0\",\n",
    "]\n",
    "# major change -> '1.1.0'\n",
    "# '1.0', '1.1.0', '2.0.0'\n",
    "# insert into file_hash(path, hash, size_bytes, release, project_name)\n",
    "\n",
    "sql = \"\"\"\n",
    "select path, size_bytes from file_hash\n",
    "where release='{0}'\n",
    "and project_name='flask'\n",
    "and path like '%.py'\n",
    "and path not like 'examples/%'\n",
    "and path not like 'tests/%'\n",
    "and path not like 'docs/%'\n",
    "and path not like '%testsuite/%'\n",
    "\"\"\"\n",
    "\n",
    "# rels = ALL_RELS\n",
    "rels = RELS\n",
    "# rels = ['0.5', '0.6']\n",
    "\n",
    "release = {}\n",
    "for release_ver in rels:\n",
    "    data = queryall(con, sql.format(release_ver))\n",
    "    data = dict((name, int(size)) for name, size in data)\n",
    "    release[release_ver] = data\n",
    "    num_files = len(data)\n",
    "    # print(f'RELEASE: {release_ver:7} - {num_files} files')\n",
    "\n",
    "# assert 0, set(release['1.0']) ^ set(release['1.1.0'])\n",
    "\n",
    "last = release[rels[-1]]\n",
    "last_files = list(sorted(last.keys()))\n",
    "\n",
    "grid = {}\n",
    "for release_ver in rels:\n",
    "    this_rel = release[release_ver]\n",
    "    print(release_ver, this_rel)\n",
    "    this_slice = [this_rel.get(path, \"-\") for path in last_files]\n",
    "    # assert 0, this_slice\n",
    "    grid[release_ver] = this_slice\n",
    "\n",
    "for release_ver in rels:\n",
    "    print(f\"{release_ver:6} {grid[release_ver]}\")"
   ]
  }
 ],
 "metadata": {
  "interpreter": {
   "hash": "fd077e1392ad5881c2fa15226f8eefb86ccedb9c990aae0111bdff210b9d1422"
  },
  "kernelspec": {
   "display_name": "Python 3.9.9 64-bit",
   "language": "python",
   "name": "python3"
  },
  "language_info": {
   "name": "python",
   "version": "3.9.9"
  },
  "orig_nbformat": 4
 },
 "nbformat": 4,
 "nbformat_minor": 2
}
