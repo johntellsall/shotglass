{
  "cells": [
    {
      "cell_type": "code",
      "execution_count": 1,
      "metadata": {
        "collapsed": false
      },
      "outputs": [],
      "source": [
        "%matplotlib inline\n",
        "\n",
        "import re\n",
        "import sqlite3\n",
        "from dataclasses import dataclass, field\n",
        "from datetime import datetime\n",
        "\n",
        "import matplotlib.dates as mdates\n",
        "import matplotlib.pyplot as plt\n",
        "import numpy as np\n",
        "\n",
        "con = sqlite3.connect('main.db')\n"
      ]
    },
    {
      "cell_type": "code",
      "execution_count": 6,
      "metadata": {
        "collapsed": false
      },
      "outputs": [
        {
          "ename": "AssertionError",
          "evalue": "No Mongo data",
          "output_type": "error",
          "traceback": [
            "\u001b[0;31m---------------------------------------------------------------------------\u001b[0m",
            "\u001b[0;31mAssertionError\u001b[0m                            Traceback (most recent call last)",
            "Input \u001b[0;32mIn [6]\u001b[0m, in \u001b[0;36m<module>\u001b[0;34m\u001b[0m\n\u001b[1;32m      3\u001b[0m sql \u001b[38;5;241m=\u001b[39m \u001b[38;5;124mf\u001b[39m\u001b[38;5;124m'''\u001b[39m\n\u001b[1;32m      4\u001b[0m \u001b[38;5;124mselect tag, date(creator_dt)\u001b[39m\n\u001b[1;32m      5\u001b[0m \u001b[38;5;124mfrom projects join releases on projects.id = releases.project_id\u001b[39m\n\u001b[1;32m      6\u001b[0m \u001b[38;5;124mwhere name = \u001b[39m\u001b[38;5;124m'\u001b[39m\u001b[38;5;132;01m{\u001b[39;00mproject_name\u001b[38;5;132;01m}\u001b[39;00m\u001b[38;5;124m'\u001b[39m\n\u001b[1;32m      7\u001b[0m \u001b[38;5;124morder by 2\u001b[39m\n\u001b[1;32m      8\u001b[0m \u001b[38;5;124m'''\u001b[39m\n\u001b[1;32m      9\u001b[0m raw_releases \u001b[38;5;241m=\u001b[39m con\u001b[38;5;241m.\u001b[39mexecute(sql)\u001b[38;5;241m.\u001b[39mfetchall()\n\u001b[0;32m---> 10\u001b[0m \u001b[38;5;28;01massert\u001b[39;00m \u001b[38;5;28mlen\u001b[39m(raw_releases), \u001b[38;5;124m\"\u001b[39m\u001b[38;5;124mNo Mongo data\u001b[39m\u001b[38;5;124m\"\u001b[39m\n\u001b[1;32m     12\u001b[0m majormin_pat \u001b[38;5;241m=\u001b[39m re\u001b[38;5;241m.\u001b[39mcompile(\n\u001b[1;32m     13\u001b[0m     \u001b[38;5;124mr\u001b[39m\u001b[38;5;124m'\u001b[39m\u001b[38;5;124m(?P<pre>      .*?)\u001b[39m\u001b[38;5;124m'\u001b[39m   \u001b[38;5;66;03m# optional before major\u001b[39;00m\n\u001b[1;32m     14\u001b[0m     \u001b[38;5;124mr\u001b[39m\u001b[38;5;124m'\u001b[39m\u001b[38;5;124m(?P<majormin> [0-9]+\u001b[39m\u001b[38;5;124m\\\u001b[39m\u001b[38;5;124m.[0-9]+)\u001b[39m\u001b[38;5;124m'\u001b[39m  \u001b[38;5;66;03m# major.minor ex \"1.2\"\u001b[39;00m\n\u001b[1;32m     15\u001b[0m     \u001b[38;5;124mr\u001b[39m\u001b[38;5;124m'\u001b[39m\u001b[38;5;124m(?P<post>     .*)\u001b[39m\u001b[38;5;124m'\u001b[39m,   \u001b[38;5;66;03m# optional micro and afterwards\u001b[39;00m\n\u001b[1;32m     16\u001b[0m     re\u001b[38;5;241m.\u001b[39mVERBOSE\n\u001b[1;32m     17\u001b[0m     )\n\u001b[1;32m     19\u001b[0m \u001b[38;5;129m@dataclass\u001b[39m\n\u001b[1;32m     20\u001b[0m \u001b[38;5;28;01mclass\u001b[39;00m \u001b[38;5;21;01mRelease\u001b[39;00m:\n",
            "\u001b[0;31mAssertionError\u001b[0m: No Mongo data"
          ]
        }
      ],
      "source": [
        "\n",
        "project_name = 'mongo'\n",
        "\n",
        "sql = f'''\n",
        "select tag, date(creator_dt)\n",
        "from projects join releases on projects.id = releases.project_id\n",
        "where name = '{project_name}'\n",
        "order by 2\n",
        "'''\n",
        "raw_releases = con.execute(sql).fetchall()\n",
        "assert len(raw_releases), \"No Mongo data\"\n",
        "\n",
        "majormin_pat = re.compile(\n",
        "    r'(?P<pre>      .*?)'   # optional before major\n",
        "    r'(?P<majormin> [0-9]+\\.[0-9]+)'  # major.minor ex \"1.2\"\n",
        "    r'(?P<post>     .*)',   # optional micro and afterwards\n",
        "    re.VERBOSE\n",
        "    )\n",
        "\n",
        "@dataclass\n",
        "class Release:\n",
        "    raw_label: str\n",
        "    majormin: str = field(init=False)\n",
        "    raw_date: str\n",
        "    date: datetime = field(init=False, default=None)\n",
        "\n",
        "    def __post_init__(self):\n",
        "        self.majormin = None\n",
        "        if match := majormin_pat.search(self.raw_label):\n",
        "            post = match.group('post')\n",
        "            if not post.startswith('.0'):\n",
        "                # print(f'Ignore micro ({self.raw_label}=)')\n",
        "                return\n",
        "            self.majormin = match.group('majormin')\n",
        "        else:\n",
        "            print(f'No major.minor ({self.raw_label}=)')\n",
        "            return\n",
        "\n",
        "        self.date = datetime.strptime(self.raw_date, \"%Y-%m-%d\")\n",
        "\n",
        "raw_releases = [Release(tag, date) for tag,date in raw_releases]\n",
        "print(f'{len(raw_releases)=}')\n",
        "# assert 0, [raw_releases[:3]]\n"
      ]
    },
    {
      "cell_type": "code",
      "execution_count": 3,
      "metadata": {},
      "outputs": [
        {
          "name": "stdout",
          "output_type": "stream",
          "text": [
            "len(releases)=0\n"
          ]
        }
      ],
      "source": [
        "# remove uninteresting release\n",
        "\n",
        "def get_interesting(raw_rels):\n",
        "    \"\"\"\n",
        "    show only the first major.minor; ignore RC and all other micro versions\n",
        "    \"\"\"\n",
        "    already_seen = set()\n",
        "    for rel in raw_releases:\n",
        "            mm = rel.majormin\n",
        "            if mm in already_seen:\n",
        "                    continue\n",
        "            # TODO: skip micro releases\n",
        "            if not rel.date:\n",
        "                    # print(f'?? {rel=}')\n",
        "                    continue\n",
        "            already_seen.add(mm)\n",
        "            yield rel\n",
        "\n",
        "releases = list(get_interesting(raw_releases))\n",
        "print(f'{len(releases)=}')\n",
        "# assert 0, releases[:3]\n"
      ]
    },
    {
      "cell_type": "code",
      "execution_count": 5,
      "metadata": {
        "collapsed": false
      },
      "outputs": [
        {
          "data": {
            "image/png": "[encoded data removed]",
            "text/plain": [
              "<Figure size 633.6x288 with 1 Axes>"
            ]
          },
          "metadata": {
            "needs_background": "light"
          },
          "output_type": "display_data"
        }
      ],
      "source": [
        "\n",
        "# Choose some nice levels\n",
        "raw_levels = [-5, 5, -3, 3, -1, 1]\n",
        "\n",
        "# Create figure and plot a stem plot with the date\n",
        "fig, ax = plt.subplots(figsize=(8.8, 4), constrained_layout=True)\n",
        "ax.set(title=f\"{project_name} release dates\")\n",
        "\n",
        "dates = [rel.date for rel in releases]\n",
        "if 0:\n",
        "        # The vertical stems.\n",
        "        ax.vlines(dates, 0, levels, color=\"tab:red\")  \n",
        "\n",
        "# Baseline and markers on it.\n",
        "ax.plot(dates, np.zeros_like(dates), \"-o\",\n",
        "        color=\"k\", markerfacecolor=\"w\")  \n",
        "\n",
        "# annotate lines\n",
        "line_style = dict(textcoords=\"offset points\",\n",
        "                        horizontalalignment=\"right\")\n",
        "major_style = dict(\n",
        "        size=10, ha=\"center\", va=\"center\",\n",
        "        bbox=dict(boxstyle=\"circle,pad=0.3\", fc=\"cyan\", ec=\"b\", lw=2)\n",
        ")\n",
        "for num,rel in enumerate(releases):\n",
        "        level = raw_levels[num % len(raw_levels)]\n",
        "        valign = \"bottom\" if level > 0 else \"top\"\n",
        "        xytext = (-3, np.sign(level)*3)\n",
        "        ax.annotate(rel.majormin, xy=(rel.date, level),\n",
        "                        xytext=xytext,\n",
        "                        verticalalignment=valign,\n",
        "                        **line_style)\n",
        "\n",
        "# major releases get big blue circle\n",
        "major_pat = re.compile(r'([0-9]+)\\.0')\n",
        "for rel in releases:\n",
        "        match = major_pat.match(rel.majormin)\n",
        "        if not match:\n",
        "                continue\n",
        "        label = match.group(1)  # \"major\" (no minor nor micro)\n",
        "        ax.text(rel.date, 0, label, **major_style)\n",
        "\n",
        "# format xaxis with intervals\n",
        "ax.xaxis.set_major_locator(mdates.MonthLocator(interval=6))\n",
        "ax.xaxis.set_major_formatter(mdates.DateFormatter(\"%b %Y\"))\n",
        "plt.setp(ax.get_xticklabels(), rotation=30, ha=\"right\")\n",
        "\n",
        "# remove y axis and spines\n",
        "ax.yaxis.set_visible(False)\n",
        "ax.spines[[\"left\", \"top\", \"right\"]].set_visible(False)\n",
        "\n",
        "ax.margins(y=0.1)\n",
        "plt.show()"
      ]
    }
  ],
  "metadata": {
    "kernelspec": {
      "display_name": "Python 3",
      "language": "python",
      "name": "python3"
    },
    "language_info": {
      "codemirror_mode": {
        "name": "ipython",
        "version": 3
      },
      "file_extension": ".py",
      "mimetype": "text/x-python",
      "name": "python",
      "nbconvert_exporter": "python",
      "pygments_lexer": "ipython3",
      "version": "3.9.10"
    }
  },
  "nbformat": 4,
  "nbformat_minor": 0
}
