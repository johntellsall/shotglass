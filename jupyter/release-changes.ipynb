{
 "cells": [
  {
   "cell_type": "markdown",
   "metadata": {},
   "source": [
    "# Release Changes\n",
    "\n",
    "Show Heatmap of different files change over different releases."
   ]
  },
  {
   "cell_type": "code",
   "execution_count": 2,
   "metadata": {},
   "outputs": [],
   "source": [
    "import numpy as np; np.random.seed(0)\n",
    "import seaborn as sns; sns.set_theme()\n",
    "import sqlite3\n",
    "\n",
    "con = sqlite3.connect('main.db')\n"
   ]
  },
  {
   "cell_type": "code",
   "execution_count": 3,
   "metadata": {},
   "outputs": [
    {
     "name": "stdout",
     "output_type": "stream",
     "text": [
      "raw: [('0.1', '2010-04-16'), ('0.2', '2010-05-11'), ('0.3', '2010-05-27'), ('0.3.1', '2010-05-28'), ('0.4', '2010-06-18'), ('2.0.0rc2', '2021-05-03'), ('2.0.0', '2021-05-11'), ('1.1.3', '2021-05-13'), ('1.1.4', '2021-05-14'), ('2.0.1', '2021-05-21')]\n",
      "- len 38\n"
     ]
    }
   ],
   "source": [
    "project_name = 'flask'\n",
    "\n",
    "sql = f'''\n",
    "select tag, date(creator_dt)\n",
    "from projects join releases on projects.id = releases.project_id\n",
    "where name = '{project_name}'\n",
    "order by 2\n",
    "'''\n",
    "raw_releases = con.execute(sql).fetchall()\n",
    "print(f'raw: {raw_releases[:5] + raw_releases[-5:]}')\n",
    "print(f'- len {len(raw_releases)}')"
   ]
  },
  {
   "cell_type": "code",
   "execution_count": 8,
   "metadata": {},
   "outputs": [
    {
     "name": "stdout",
     "output_type": "stream",
     "text": [
      "[[1 2 3]\n",
      " [4 5 6]]\n"
     ]
    },
    {
     "data": {
      "image/png": "[encoded data removed]",
      "text/plain": [
       "<Figure size 432x288 with 2 Axes>"
      ]
     },
     "metadata": {},
     "output_type": "display_data"
    }
   ],
   "source": [
    "\n",
    "# uniform_data = np.random.rand(5, 3)  # rows, cols\n",
    "# assert 0, uniform_data\n",
    "# ax = sns.heatmap(uniform_data)\n",
    "\n",
    "arr = np.array([[1, 2, 3], [4, 5, 6]])\n",
    "print(arr)\n",
    "ax = sns.heatmap(arr)\n"
   ]
  }
 ],
 "metadata": {
  "interpreter": {
   "hash": "f51022464c3c6e3bfc8fb1b120f3fa9273410ddfccd4fedfbe2f9733b052d04a"
  },
  "kernelspec": {
   "display_name": "Python 3.9.9 64-bit",
   "language": "python",
   "name": "python3"
  },
  "language_info": {
   "codemirror_mode": {
    "name": "ipython",
    "version": 3
   },
   "file_extension": ".py",
   "mimetype": "text/x-python",
   "name": "python",
   "nbconvert_exporter": "python",
   "pygments_lexer": "ipython3",
   "version": "3.9.10"
  },
  "orig_nbformat": 4
 },
 "nbformat": 4,
 "nbformat_minor": 2
}
