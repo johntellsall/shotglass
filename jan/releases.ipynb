{
 "cells": [
  {
   "cell_type": "code",
   "execution_count": 9,
   "metadata": {},
   "outputs": [
    {
     "name": "stdout",
     "output_type": "stream",
     "text": [
      "[('3.37.2',)]\n"
     ]
    }
   ],
   "source": [
    "import sqlite3\n",
    "\n",
    "\n",
    "def queryall(con, sql):\n",
    "    return list(con.execute(sql))\n",
    "\n",
    "con = sqlite3.connect(\"jan.db\")\n",
    "\n",
    "print(list(con.execute(\"select sqlite_version()\")))\n"
   ]
  },
  {
   "cell_type": "code",
   "execution_count": 26,
   "metadata": {},
   "outputs": [
    {
     "name": "stdout",
     "output_type": "stream",
     "text": [
      "RELEASE: 0.2\n",
      "[('flask.py', '43971'), ('setup.py', '1591')]\n",
      "RELEASE: 1.0\n",
      "[('flask/__init__.py', '1671'), ('flask/__main__.py', '291'), ('flask/_compat.py', '2892'), ('flask/app.py', '94006'), ('flask/blueprints.py', '18203'), ('flask/cli.py', '29325'), ('flask/config.py', '9951'), ('flask/ctx.py', '16224'), ('flask/debughelpers.py', '6479'), ('flask/globals.py', '1649'), ('flask/helpers.py', '39714'), ('flask/json/__init__.py', '10729'), ('flask/json/tag.py', '8223'), ('flask/logging.py', '2231'), ('flask/sessions.py', '14452'), ('flask/signals.py', '2211'), ('flask/templating.py', '4914'), ('flask/testing.py', '9379'), ('flask/views.py', '5733'), ('flask/wrappers.py', '7511'), ('scripts/make-release.py', '3883'), ('setup.py', '2620')]\n",
      "RELEASE: 2.0.0\n",
      "[('setup.py', '364'), ('src/flask/__init__.py', '1530'), ('src/flask/__main__.py', '30'), ('src/flask/app.py', '81891'), ('src/flask/blueprints.py', '21240'), ('src/flask/cli.py', '32036'), ('src/flask/config.py', '10116'), ('src/flask/ctx.py', '16748'), ('src/flask/debughelpers.py', '6171'), ('src/flask/globals.py', '1722'), ('src/flask/helpers.py', '29240'), ('src/flask/json/__init__.py', '11580'), ('src/flask/json/tag.py', '8857'), ('src/flask/logging.py', '2273'), ('src/flask/scaffold.py', '32305'), ('src/flask/sessions.py', '15151'), ('src/flask/signals.py', '2126'), ('src/flask/templating.py', '5626'), ('src/flask/testing.py', '10281'), ('src/flask/typing.py', '1683'), ('src/flask/views.py', '5865'), ('src/flask/wrappers.py', '4761')]\n"
     ]
    }
   ],
   "source": [
    "# print(queryall(con, 'select count(*) from file_hash'))\n",
    "\n",
    "# queryall(con, \"SELECT load_extension('/usr/lib/sqlite3/pcre.so');\")\n",
    "\n",
    "RELS = ['0.2', '1.0', '2.0.0']\n",
    "\n",
    "# insert into file_hash(path, hash, size_bytes, release, project_name)\n",
    "\n",
    "sql = \"\"\"\n",
    "select path, size_bytes from file_hash\n",
    "where release='{0}'\n",
    "and project_name='flask'\n",
    "and path like '%.py'\n",
    "and path not like 'examples/%'\n",
    "and path not like 'tests/%'\n",
    "and path not like 'docs/%'\n",
    "\n",
    "\"\"\"\n",
    "release = {}\n",
    "for release_ver in RELS:\n",
    "    print(f'RELEASE: {release_ver}')\n",
    "    data = queryall(con, sql.format(release_ver))\n",
    "    data = dict((name, int(size)) for name,size in data)\n",
    "    release[release_ver] = data\n"
   ]
  }
 ],
 "metadata": {
  "interpreter": {
   "hash": "fd077e1392ad5881c2fa15226f8eefb86ccedb9c990aae0111bdff210b9d1422"
  },
  "kernelspec": {
   "display_name": "Python 3.9.9 64-bit",
   "language": "python",
   "name": "python3"
  },
  "language_info": {
   "name": "python",
   "version": "3.9.9"
  },
  "orig_nbformat": 4
 },
 "nbformat": 4,
 "nbformat_minor": 2
}
