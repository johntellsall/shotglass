{
  "cells": [
    {
      "cell_type": "code",
      "execution_count": 1,
      "metadata": {
        "collapsed": false
      },
      "outputs": [],
      "source": [
        "%matplotlib inline\n",
        "\n",
        "# TODO: update Postgres Git :)"
      ]
    },
    {
      "cell_type": "code",
      "execution_count": 28,
      "metadata": {
        "collapsed": false
      },
      "outputs": [
        {
          "name": "stdout",
          "output_type": "stream",
          "text": [
            "raw: 476\n",
            "[('PG95-1_01', '1996-07-09'), ('PG95-1_08', '1996-10-04'), ('PG95-1_09', '1996-10-31'), ('REL2_0', '1996-12-09'), ('REL6_1', '1997-06-13'), ('REL_12_BETA1', '2019-05-20'), ('Release_1_0_2', '1996-08-02'), ('Release_2_0', '1996-08-14'), ('Release_2_0_0', '1996-08-17'), ('release-6-3', '1998-03-02')]\n",
            "\n",
            "rel: 34\n",
            "['REL2_0', 'REL6_1', 'REL6_2', 'REL6_3', 'REL6_5', 'REL7_0', 'REL7_1', 'REL7_2', 'REL7_3', 'REL7_4', 'REL_10_0', 'REL_10_1', 'REL_10_2', 'REL_10_3', 'REL_10_4', 'REL_10_5', 'REL_10_6', 'REL_10_7', 'REL_10_8', 'REL_10_BETA1', 'REL_10_BETA2', 'REL_10_BETA3', 'REL_10_BETA4', 'REL_10_RC1', 'REL_11_0', 'REL_11_1', 'REL_11_2', 'REL_11_3', 'REL_11_BETA1', 'REL_11_BETA2', 'REL_11_BETA3', 'REL_11_BETA4', 'REL_11_RC1', 'REL_12_BETA1']\n",
            "\n",
            "[datetime.datetime(1996, 12, 9, 0, 0), datetime.datetime(1997, 6, 13, 0, 0), datetime.datetime(1997, 10, 2, 0, 0)]\n"
          ]
        }
      ],
      "source": [
        "import re\n",
        "import sqlite3\n",
        "from datetime import datetime\n",
        "\n",
        "import matplotlib.dates as mdates\n",
        "import matplotlib.pyplot as plt\n",
        "import numpy as np\n",
        "\n",
        "con = sqlite3.connect('main.db')\n",
        "\n",
        "project_name = 'postgres'\n",
        "\n",
        "sql = f'''\n",
        "select tag, date(creator_dt)\n",
        "from projects join releases on projects.id = releases.project_id\n",
        "where name = '{project_name}'\n",
        "\n",
        "'''\n",
        "# and tag like 'REL_%' and tag not like 'REL2%'\n",
        "# and tag not like 'release%'\n",
        "# and tag not like '%ALPHA%'\n",
        "# and tag not like '%beta%'\n",
        "# and tag not like '%RC%'\n",
        "raw_releases = con.execute(sql).fetchall()\n",
        "\n",
        "def is_interesting(rtag):\n",
        "    major_minor = re.compile(r'^REL[0-9]_[0-9]+$')\n",
        "    recent_mm = re.compile(r'^REL_1')\n",
        "    return bool(major_minor.match(rtag) or recent_mm.match(rtag))\n",
        "\n",
        "# TODO: use semver library?\n",
        "def is_major(version):\n",
        "    # note: \"REL\" prefix stripped\n",
        "    major3 = re.compile(r'^[0-9]+.0.0$')  # \"7.0.0\"\n",
        "    major2 = re.compile(r'^[0-9]+.0$')      # \"10.0\" (no micro)\n",
        "    return bool(major2.match(version) or major3.match(version))\n",
        "\n",
        "def strip_prefix(rtag):\n",
        "    return rtag.lstrip('REL_')  # note: strip chars, not string\n",
        "\n",
        "print(f'raw: {len(raw_releases)}')\n",
        "print(raw_releases[:5] + raw_releases[-5:])\n",
        "print()\n",
        "\n",
        "# for row in raw_releases[:10] + raw_releases[-10:]:\n",
        "#     print(f'{row[0]:10} {row[1]} {is_interesting(row[0])}')\n",
        "\n",
        "releases = list(rel for rel in raw_releases if is_interesting(rel[0]))\n",
        "print(f'rel: {len(releases)}')\n",
        "print([row[0] for row in releases])\n",
        "# print(releases[:5] + releases[-5:])\n",
        "print()\n",
        "\n",
        "names = [strip_prefix(row[0]) for row in releases]\n",
        "dates = [row[1] for row in releases]\n",
        "dates = [datetime.strptime(d, \"%Y-%m-%d\") for d in dates]\n",
        "print(dates[:3])"
      ]
    },
    {
      "cell_type": "code",
      "execution_count": 17,
      "metadata": {
        "collapsed": false
      },
      "outputs": [
        {
          "name": "stdout",
          "output_type": "stream",
          "text": [
            "[(datetime.datetime(1997, 6, 13, 0, 0), -5, '6_1'), (datetime.datetime(1997, 10, 2, 0, 0), 5, '6_2'), (datetime.datetime(1998, 3, 2, 0, 0), -3, '6_3')]\n",
            "6_1 False\n",
            "6_2 False\n",
            "6_3 False\n",
            "6_5 False\n",
            "7_0 True\n",
            "7_1 False\n",
            "7_2 False\n",
            "7_3 False\n",
            "7_4 False\n",
            "10_0 True\n",
            "10_1 False\n",
            "10_2 False\n",
            "10_3 False\n",
            "10_4 False\n",
            "10_5 False\n",
            "10_6 False\n",
            "10_7 False\n",
            "10_8 False\n",
            "11_0 True\n",
            "11_1 False\n",
            "11_2 False\n",
            "11_3 False\n"
          ]
        },
        {
          "data": {
            "image/png": "[encoded data removed]",
            "text/plain": [
              "<Figure size 633.6x288 with 1 Axes>"
            ]
          },
          "metadata": {
            "needs_background": "light"
          },
          "output_type": "display_data"
        },
        {
          "data": {
            "text/plain": [
              "<Figure size 432x288 with 0 Axes>"
            ]
          },
          "metadata": {},
          "output_type": "display_data"
        }
      ],
      "source": [
        "# Choose some nice levels\n",
        "levels = np.tile([-5, 5, -3, 3, -1, 1],\n",
        "                 int(np.ceil(len(dates)/6)))[:len(dates)]\n",
        "\n",
        "# Create figure and plot a stem plot with the date\n",
        "fig, ax = plt.subplots(figsize=(8.8, 4), constrained_layout=True)\n",
        "\n",
        "ax.vlines(dates, 0, levels, color=\"tab:red\")  # The vertical stems.\n",
        "ax.plot(dates, np.zeros_like(dates), \"-o\",\n",
        "        color=\"black\", markerfacecolor=\"white\")  # Baseline and markers on it.\n",
        "\n",
        "releases = list(zip(dates, levels, names))\n",
        "print(releases[:3])\n",
        "\n",
        "# annotate minor releases with lines\n",
        "min_style = dict(textcoords=\"offset points\",\n",
        "                horizontalalignment=\"right\")\n",
        "for a_date, a_level, name in releases:\n",
        "        if is_major(name):\n",
        "                continue\n",
        "        ax.annotate(name, xy=(a_date, a_level),\n",
        "                xytext=(-3, np.sign(a_level)*3),\n",
        "                verticalalignment=\"bottom\" if a_level > 0 else \"top\",\n",
        "                **min_style)\n",
        "\n",
        "# major release gets big blue circle\n",
        "major_style = dict(\n",
        "        size=10, ha=\"center\", va=\"center\", # rotation=45, \n",
        "        bbox=dict(boxstyle=\"circle,pad=0.3\", fc=\"cyan\", ec=\"b\", lw=2)\n",
        ")\n",
        "for a_date, a_level, name in releases:\n",
        "        print(name, is_major(name))\n",
        "        if not is_major(name):\n",
        "                continue\n",
        "        major_name = re.match('[0-9]+', name).group(0) # major version only\n",
        "        t = ax.text(\n",
        "                a_date, 0, major_name, \n",
        "                **major_style)\n",
        "\n",
        "ax.xaxis.set_major_locator(mdates.MonthLocator(interval=12))\n",
        "ax.xaxis.set_major_formatter(mdates.DateFormatter(\"%Y\"))\n",
        "\n",
        "ax.set(title=f\"{project_name.title()} release dates\")\n",
        "\n",
        "# remove y axis and spines\n",
        "ax.yaxis.set_visible(False)\n",
        "ax.spines[[\"left\", \"top\", \"right\"]].set_visible(False)\n",
        "ax.margins(y=0.2)\n",
        "\n",
        "plt.show()\n",
        "\n",
        "plt.savefig(f\"{project_name}-releases.png\")"
      ]
    },
    {
      "cell_type": "code",
      "execution_count": null,
      "metadata": {},
      "outputs": [],
      "source": []
    }
  ],
  "metadata": {
    "kernelspec": {
      "display_name": "Python 3",
      "language": "python",
      "name": "python3"
    },
    "language_info": {
      "codemirror_mode": {
        "name": "ipython",
        "version": 3
      },
      "file_extension": ".py",
      "mimetype": "text/x-python",
      "name": "python",
      "nbconvert_exporter": "python",
      "pygments_lexer": "ipython3",
      "version": "3.9.9"
    }
  },
  "nbformat": 4,
  "nbformat_minor": 0
}
