{
  "cells": [
    {
      "cell_type": "code",
      "execution_count": 35,
      "metadata": {
        "collapsed": false
      },
      "outputs": [],
      "source": [
        "%matplotlib inline\n",
        "\n",
        "# TODO: update Postgres Git :)"
      ]
    },
    {
      "cell_type": "code",
      "execution_count": 59,
      "metadata": {
        "collapsed": false
      },
      "outputs": [
        {
          "name": "stdout",
          "output_type": "stream",
          "text": [
            "['RAW:', ('REL6_1', '1997-06-13'), ('REL6_1_1', '1997-07-21'), ('REL6_2', '1997-10-02'), ('REL_11_1', '2018-11-06'), ('REL_11_2', '2019-02-11'), ('REL_11_3', '2019-05-06')]\n",
            "25\n"
          ]
        }
      ],
      "source": [
        "import re\n",
        "import sqlite3\n",
        "from datetime import datetime\n",
        "\n",
        "import matplotlib.dates as mdates\n",
        "import matplotlib.pyplot as plt\n",
        "import numpy as np\n",
        "\n",
        "con = sqlite3.connect('main.db')\n",
        "\n",
        "project_name = 'postgres'\n",
        "\n",
        "sql = f'''\n",
        "select tag, date(creator_dt)\n",
        "from projects join releases on projects.id = releases.project_id\n",
        "where name = '{project_name}'\n",
        "and tag like 'REL_%' and tag not like 'REL2%'\n",
        "and tag not like 'release%'\n",
        "and tag not like '%ALPHA%'\n",
        "and tag not like '%beta%'\n",
        "and tag not like '%RC%'\n",
        "'''\n",
        "raw_releases = con.execute(sql).fetchall()\n",
        "print(['RAW:'] + raw_releases[:3] + raw_releases[-3:])\n",
        "\n",
        "def is_interesting(rtag):\n",
        "    return rtag.startswith('REL_1') or re.match(r'REL[0-9].[0-9]+_0$', rtag)\n",
        "\n",
        "def strip_prefix(rtag):\n",
        "    if rtag.startswith('REL_'):\n",
        "        return rtag[4:]\n",
        "    return rtag[3:]\n",
        "\n",
        "releases = list(rel for rel in raw_releases if is_interesting(rel[0]))\n",
        "# releases = releases[-20:]\n",
        "# print(releases[:3] + releases[-3:])\n",
        "print(len(releases))\n",
        "\n",
        "names = [strip_prefix(row[0]) for row in releases]\n",
        "dates = [row[1] for row in releases]\n",
        "dates = [datetime.strptime(d, \"%Y-%m-%d\") for d in dates]\n"
      ]
    },
    {
      "cell_type": "code",
      "execution_count": 60,
      "metadata": {
        "collapsed": false
      },
      "outputs": [
        {
          "name": "stdout",
          "output_type": "stream",
          "text": [
            "8_0_0 False\n",
            "8_1_0 False\n",
            "8_2_0 False\n",
            "8_3_0 False\n",
            "8_4_0 False\n",
            "9_0_0 False\n",
            "9_1_0 False\n",
            "9_2_0 False\n",
            "9_3_0 False\n",
            "9_4_0 False\n",
            "9_5_0 False\n",
            "9_6_0 False\n",
            "10_0 True\n",
            "10_0\n",
            "10_1 False\n",
            "10_2 False\n",
            "10_3 False\n",
            "10_4 False\n",
            "10_5 False\n",
            "10_6 False\n",
            "10_7 False\n",
            "10_8 False\n",
            "11_0 True\n",
            "11_0\n",
            "11_1 False\n",
            "11_2 False\n",
            "11_3 False\n"
          ]
        },
        {
          "data": {
            "image/png": "[encoded data removed]",
            "text/plain": [
              "<Figure size 633.6x288 with 1 Axes>"
            ]
          },
          "metadata": {
            "needs_background": "light"
          },
          "output_type": "display_data"
        }
      ],
      "source": [
        "# Choose some nice levels\n",
        "levels = np.tile([-5, 5, -3, 3, -1, 1],\n",
        "                 int(np.ceil(len(dates)/6)))[:len(dates)]\n",
        "\n",
        "# Create figure and plot a stem plot with the date\n",
        "fig, ax = plt.subplots(figsize=(8.8, 4), constrained_layout=True)\n",
        "\n",
        "ax.vlines(dates, 0, levels, color=\"tab:red\")  # The vertical stems.\n",
        "ax.plot(dates, np.zeros_like(dates), \"-o\",\n",
        "        color=\"black\", markerfacecolor=\"white\")  # Baseline and markers on it.\n",
        "\n",
        "def is_major(rel):\n",
        "        return bool(re.match(r'[0-9]+.0$', rel) or rel.endswith('0'))\n",
        "\n",
        "releases = list(zip(dates, levels, names))\n",
        "\n",
        "# annotate minor releases with lines\n",
        "min_style = dict(textcoords=\"offset points\",\n",
        "                horizontalalignment=\"right\")\n",
        "for a_date, a_level, name in releases:\n",
        "        if is_major(name):\n",
        "                continue\n",
        "        ax.annotate(name, xy=(a_date, a_level),\n",
        "                xytext=(-3, np.sign(a_level)*3),\n",
        "                verticalalignment=\"bottom\" if a_level > 0 else \"top\",\n",
        "                **min_style)\n",
        "\n",
        "# major release gets big blue circle\n",
        "major_style = dict(\n",
        "        size=10, ha=\"center\", va=\"center\", # rotation=45, \n",
        "        bbox=dict(boxstyle=\"circle,pad=0.3\", fc=\"cyan\", ec=\"b\", lw=2)\n",
        ")\n",
        "for a_date, a_level, name in releases:\n",
        "        print(name, is_major(name))\n",
        "        if not is_major(name):\n",
        "                continue\n",
        "        print(name)\n",
        "        major_name = re.match('[0-9]+', name).group(0) # major version only\n",
        "        t = ax.text(\n",
        "                a_date, 0, major_name, \n",
        "                **major_style)\n",
        "\n",
        "ax.xaxis.set_major_locator(mdates.MonthLocator(interval=12))\n",
        "ax.xaxis.set_major_formatter(mdates.DateFormatter(\"%Y\"))\n",
        "\n",
        "ax.set(title=f\"{project_name.title()} release dates\")\n",
        "\n",
        "# remove y axis and spines\n",
        "ax.yaxis.set_visible(False)\n",
        "ax.spines[[\"left\", \"top\", \"right\"]].set_visible(False)\n",
        "ax.margins(y=0.2)\n",
        "\n",
        "plt.show()\n",
        "\n",
        "# plt.savefig(f\"{project_name}-releases.png\")"
      ]
    },
    {
      "cell_type": "code",
      "execution_count": null,
      "metadata": {},
      "outputs": [],
      "source": []
    }
  ],
  "metadata": {
    "kernelspec": {
      "display_name": "Python 3",
      "language": "python",
      "name": "python3"
    },
    "language_info": {
      "codemirror_mode": {
        "name": "ipython",
        "version": 3
      },
      "file_extension": ".py",
      "mimetype": "text/x-python",
      "name": "python",
      "nbconvert_exporter": "python",
      "pygments_lexer": "ipython3",
      "version": "3.9.8"
    }
  },
  "nbformat": 4,
  "nbformat_minor": 0
}
