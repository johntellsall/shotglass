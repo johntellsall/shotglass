{
  "cells": [
    {
      "cell_type": "code",
      "execution_count": 12,
      "metadata": {
        "collapsed": false
      },
      "outputs": [],
      "source": [
        "%matplotlib inline\n",
        "\n",
        "import re\n",
        "import sqlite3\n",
        "from datetime import datetime\n",
        "\n",
        "import matplotlib.dates as mdates\n",
        "import matplotlib.pyplot as plt\n",
        "import numpy as np\n",
        "\n",
        "con = sqlite3.connect('main.db')"
      ]
    },
    {
      "cell_type": "markdown",
      "metadata": {},
      "source": [
        "### Raw Data"
      ]
    },
    {
      "cell_type": "code",
      "execution_count": 9,
      "metadata": {
        "collapsed": false
      },
      "outputs": [
        {
          "name": "stdout",
          "output_type": "stream",
          "text": [
            "raw: [('2.0', '2017-06-19'), ('2.1', '2017-06-19'), ('2.2', '2017-06-19'), ('2.3', '2017-06-19'), ('2.4', '2017-06-19'), ('v3.9.5', '2021-05-03'), ('v3.9.6', '2021-06-28'), ('v3.9.7', '2021-08-30'), ('v3.9.8', '2021-11-05'), ('v3.9.9', '2021-11-15')]\n",
            "- len 492\n"
          ]
        }
      ],
      "source": [
        "project_name = 'cpython'\n",
        "\n",
        "sql = f'''\n",
        "select tag, date(creator_dt)\n",
        "from projects join releases on projects.id = releases.project_id\n",
        "where name = '{project_name}'\n",
        "'''\n",
        "raw_releases = con.execute(sql).fetchall()\n",
        "print(f'raw: {raw_releases[:5] + raw_releases[-5:]}')\n",
        "print(f'- len {len(raw_releases)}')\n",
        "\n"
      ]
    },
    {
      "cell_type": "markdown",
      "metadata": {},
      "source": [
        "### Plottable Releases"
      ]
    },
    {
      "cell_type": "code",
      "execution_count": 26,
      "metadata": {},
      "outputs": [
        {
          "name": "stdout",
          "output_type": "stream",
          "text": [
            "2.0 <re.Match object; span=(0, 3), match='2.0'>\n",
            "2.1 <re.Match object; span=(0, 3), match='2.1'>\n",
            "2.2 <re.Match object; span=(0, 3), match='2.2'>\n",
            "2.3 <re.Match object; span=(0, 3), match='2.3'>\n",
            "2.4 <re.Match object; span=(0, 3), match='2.4'>\n",
            "2.6 <re.Match object; span=(0, 3), match='2.6'>\n",
            "2.7 <re.Match object; span=(0, 3), match='2.7'>\n",
            "3.0 <re.Match object; span=(0, 3), match='3.0'>\n",
            "3.1 <re.Match object; span=(0, 3), match='3.1'>\n",
            "3.2 <re.Match object; span=(0, 3), match='3.2'>\n"
          ]
        }
      ],
      "source": [
        "minor_pat = re.compile(r'^[0-9]+\\.[0-9]+$')\n",
        "def parse(raw):\n",
        "    rel, date = raw\n",
        "    rel = rel.lstrip('v')\n",
        "    if minor_pat.match(rel):\n",
        "        return (rel, date)\n",
        "    else:\n",
        "        # print(f'?? {rel=}')\n",
        "        return None\n",
        "\n",
        "releases = list(filter(None, map(parse, raw_releases)))\n",
        "for rel in releases[:5] + releases[-5:]:\n",
        "    print(rel[0], minor_pat.match(rel[0]))\n"
      ]
    },
    {
      "cell_type": "code",
      "execution_count": 27,
      "metadata": {},
      "outputs": [
        {
          "name": "stdout",
          "output_type": "stream",
          "text": [
            "[datetime.datetime(2017, 6, 19, 0, 0), datetime.datetime(2017, 6, 19, 0, 0), datetime.datetime(2017, 6, 19, 0, 0)]\n"
          ]
        }
      ],
      "source": [
        "names = [row[0] for row in releases]\n",
        "dates = [row[1] for row in releases]\n",
        "dates = [datetime.strptime(d, \"%Y-%m-%d\") for d in dates]\n",
        "print(dates[:3])"
      ]
    },
    {
      "cell_type": "code",
      "execution_count": 31,
      "metadata": {
        "collapsed": false
      },
      "outputs": [
        {
          "name": "stdout",
          "output_type": "stream",
          "text": [
            "[(datetime.datetime(2017, 6, 19, 0, 0), -5, '2.0'), (datetime.datetime(2017, 6, 19, 0, 0), 5, '2.1'), (datetime.datetime(2017, 6, 19, 0, 0), -3, '2.2')]\n"
          ]
        },
        {
          "data": {
            "image/png": "[encoded data removed]",
            "text/plain": [
              "<Figure size 633.6x288 with 1 Axes>"
            ]
          },
          "metadata": {
            "needs_background": "light"
          },
          "output_type": "display_data"
        },
        {
          "data": {
            "text/plain": [
              "<Figure size 432x288 with 0 Axes>"
            ]
          },
          "metadata": {},
          "output_type": "display_data"
        }
      ],
      "source": [
        "# Choose some nice levels\n",
        "levels = np.tile([-5, 5, -3, 3, -1, 1],\n",
        "                 int(np.ceil(len(dates)/6)))[:len(dates)]\n",
        "\n",
        "# Create figure and plot a stem plot with the date\n",
        "fig, ax = plt.subplots(figsize=(8.8, 4), constrained_layout=True)\n",
        "\n",
        "# TODO: red lines on minor only\n",
        "ax.vlines(dates, 0, levels, color=\"tab:red\")  # The vertical stems.\n",
        "ax.plot(dates, np.zeros_like(dates), \"-o\",\n",
        "        color=\"black\", markerfacecolor=\"white\")  # Baseline and markers on it.\n",
        "\n",
        "releases = list(zip(dates, levels, names))\n",
        "print(releases[:3])\n",
        "\n",
        "min_style = dict(textcoords=\"offset points\",\n",
        "                horizontalalignment=\"right\")\n",
        "major_style = dict(\n",
        "        size=10, ha=\"center\", va=\"center\", # rotation=45, \n",
        "        bbox=dict(boxstyle=\"circle,pad=0.3\", fc=\"cyan\", ec=\"b\", lw=2)\n",
        ")\n",
        "\n",
        "# annotate minor releases\n",
        "for a_date, a_level, name in releases:\n",
        "        # if is_minor(name):\n",
        "        #         label = name[:-2]  # \"major.minor\"\n",
        "        # else:\n",
        "        #         continue\n",
        "        label = name\n",
        "        ax.annotate(label, xy=(a_date, a_level),\n",
        "                xytext=(-3, np.sign(a_level)*3),\n",
        "                verticalalignment=\"bottom\" if a_level > 0 else \"top\",\n",
        "                **min_style)\n",
        "\n",
        "# major releases get big blue circle\n",
        "major_pat = re.compile(r'([0-9]+)\\.0')\n",
        "for a_date, a_level, name in releases:\n",
        "        match = major_pat.match(name)\n",
        "        if not match:\n",
        "                continue\n",
        "        label = match.group(1)  # \"major\" (no minor nor micro)\n",
        "        ax.text(a_date, 0, label, **major_style)\n",
        "\n",
        "ax.xaxis.set_major_locator(mdates.MonthLocator(interval=24))\n",
        "ax.xaxis.set_major_formatter(mdates.DateFormatter(\"%Y\"))\n",
        "\n",
        "ax.set(title=f\"{project_name.title()} release dates\")\n",
        "\n",
        "# remove y axis and spines\n",
        "ax.yaxis.set_visible(False)\n",
        "ax.spines[[\"left\", \"top\", \"right\"]].set_visible(False)\n",
        "ax.margins(y=0.2)\n",
        "\n",
        "plt.show()\n",
        "\n",
        "plt.savefig(f\"{project_name}-releases.png\")"
      ]
    },
    {
      "cell_type": "code",
      "execution_count": null,
      "metadata": {},
      "outputs": [],
      "source": []
    }
  ],
  "metadata": {
    "kernelspec": {
      "display_name": "Python 3",
      "language": "python",
      "name": "python3"
    },
    "language_info": {
      "codemirror_mode": {
        "name": "ipython",
        "version": 3
      },
      "file_extension": ".py",
      "mimetype": "text/x-python",
      "name": "python",
      "nbconvert_exporter": "python",
      "pygments_lexer": "ipython3",
      "version": "3.9.9"
    }
  },
  "nbformat": 4,
  "nbformat_minor": 0
}
