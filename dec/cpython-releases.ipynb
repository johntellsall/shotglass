{
  "cells": [
    {
      "cell_type": "code",
      "execution_count": 49,
      "metadata": {
        "collapsed": false
      },
      "outputs": [],
      "source": [
        "%matplotlib inline\n",
        "\n",
        "import re\n",
        "import sqlite3\n",
        "from datetime import datetime\n",
        "\n",
        "import matplotlib.dates as mdates\n",
        "import matplotlib.pyplot as plt\n",
        "import numpy as np\n",
        "\n",
        "con = sqlite3.connect('main.db')"
      ]
    },
    {
      "cell_type": "markdown",
      "metadata": {},
      "source": [
        "### Raw Data"
      ]
    },
    {
      "cell_type": "code",
      "execution_count": 54,
      "metadata": {
        "collapsed": false
      },
      "outputs": [
        {
          "name": "stdout",
          "output_type": "stream",
          "text": [
            "raw: [('v0.9.8', '1993-01-10'), ('v0.9.9', '1993-07-29'), ('v1.0.1', '1994-02-15'), ('v1.0.2', '1994-05-06'), ('v1.1', '1994-10-11'), ('v3.11.0a2', '2021-11-05'), ('v3.9.8', '2021-11-05'), ('v3.9.9', '2021-11-15'), ('v3.10.1', '2021-12-06'), ('v3.11.0a3', '2021-12-08')]\n",
            "- len 481\n"
          ]
        }
      ],
      "source": [
        "project_name = 'cpython'\n",
        "\n",
        "sql = f'''\n",
        "select tag, date(creator_dt)\n",
        "from projects join releases on projects.id = releases.project_id\n",
        "where name = '{project_name}'\n",
        "and date(creator_dt) != '2017-06-19'\n",
        "order by 2\n",
        "'''\n",
        "raw_releases = con.execute(sql).fetchall()\n",
        "print(f'raw: {raw_releases[:5] + raw_releases[-5:]}')\n",
        "print(f'- len {len(raw_releases)}')\n",
        "\n"
      ]
    },
    {
      "cell_type": "markdown",
      "metadata": {},
      "source": [
        "### Plottable Releases"
      ]
    },
    {
      "cell_type": "code",
      "execution_count": 60,
      "metadata": {},
      "outputs": [
        {
          "name": "stdout",
          "output_type": "stream",
          "text": [
            "1.1 1994-10-11\n",
            "1.2 1995-04-10\n",
            "1.3 1995-10-12\n",
            "1.4 1996-10-25\n",
            "1.5 1997-12-31\n",
            "2.0 2000-10-16\n",
            "2.1 2001-04-16\n",
            "2.2 2002-03-29\n",
            "2.4 2004-11-30\n",
            "2.5 2006-09-18\n",
            "2.6 2008-10-01\n",
            "3.0 2008-12-03\n",
            "3.1 2009-06-26\n",
            "2.7 2010-07-03\n",
            "3.2 2011-02-20\n",
            "3.3 2017-10-06\n",
            "3.4 2019-05-08\n",
            "3.5 2020-10-22\n",
            "2.7 2021-01-26\n"
          ]
        }
      ],
      "source": [
        "minor_pat = re.compile(r'^[0-9]+\\.[0-9]+$')\n",
        "def parse(raw):\n",
        "    rel, date = raw\n",
        "    rel = rel.lstrip('v')\n",
        "    if minor_pat.match(rel):\n",
        "        return (rel, date)\n",
        "    else:\n",
        "        # print(f'?? {rel=}')\n",
        "        return None\n",
        "\n",
        "releases = list(filter(None, map(parse, raw_releases)))\n",
        "if 0:\n",
        "    for rel in releases[:5] + releases[-5:]:\n",
        "        print(rel[0])\n",
        "else:\n",
        "    for rel in releases:\n",
        "        print(rel[0], rel[1])\n"
      ]
    },
    {
      "cell_type": "code",
      "execution_count": 56,
      "metadata": {},
      "outputs": [
        {
          "name": "stdout",
          "output_type": "stream",
          "text": [
            "[datetime.datetime(1994, 10, 11, 0, 0), datetime.datetime(1995, 4, 10, 0, 0), datetime.datetime(1995, 10, 12, 0, 0)]\n"
          ]
        }
      ],
      "source": [
        "names = [row[0] for row in releases]\n",
        "dates = [row[1] for row in releases]\n",
        "dates = [datetime.strptime(d, \"%Y-%m-%d\") for d in dates]\n",
        "# print(dates[:3])"
      ]
    },
    {
      "cell_type": "code",
      "execution_count": 57,
      "metadata": {
        "collapsed": false
      },
      "outputs": [
        {
          "name": "stdout",
          "output_type": "stream",
          "text": [
            "1994-10-11 00:00:00 1.1\n",
            "1995-04-10 00:00:00 1.2\n",
            "1995-10-12 00:00:00 1.3\n",
            "1996-10-25 00:00:00 1.4\n",
            "1997-12-31 00:00:00 1.5\n",
            "2000-10-16 00:00:00 2.0\n",
            "2001-04-16 00:00:00 2.1\n",
            "2002-03-29 00:00:00 2.2\n",
            "2004-11-30 00:00:00 2.4\n",
            "2006-09-18 00:00:00 2.5\n",
            "2008-10-01 00:00:00 2.6\n",
            "2008-12-03 00:00:00 3.0\n",
            "2009-06-26 00:00:00 3.1\n",
            "2010-07-03 00:00:00 2.7\n",
            "2011-02-20 00:00:00 3.2\n",
            "2017-10-06 00:00:00 3.3\n",
            "2019-05-08 00:00:00 3.4\n",
            "2020-10-22 00:00:00 3.5\n",
            "2021-01-26 00:00:00 2.7\n",
            "1994-10-11 00:00:00 1.1\n",
            "1995-04-10 00:00:00 1.2\n",
            "1995-10-12 00:00:00 1.3\n",
            "1996-10-25 00:00:00 1.4\n",
            "1997-12-31 00:00:00 1.5\n",
            "2000-10-16 00:00:00 2.0\n",
            "2001-04-16 00:00:00 2.1\n",
            "2002-03-29 00:00:00 2.2\n",
            "2004-11-30 00:00:00 2.4\n",
            "2006-09-18 00:00:00 2.5\n",
            "2008-10-01 00:00:00 2.6\n",
            "2008-12-03 00:00:00 3.0\n",
            "2009-06-26 00:00:00 3.1\n",
            "2010-07-03 00:00:00 2.7\n",
            "2011-02-20 00:00:00 3.2\n",
            "2017-10-06 00:00:00 3.3\n",
            "2019-05-08 00:00:00 3.4\n",
            "2020-10-22 00:00:00 3.5\n",
            "2021-01-26 00:00:00 2.7\n"
          ]
        },
        {
          "data": {
            "image/png": "[encoded data removed]",
            "text/plain": [
              "<Figure size 633.6x288 with 1 Axes>"
            ]
          },
          "metadata": {
            "needs_background": "light"
          },
          "output_type": "display_data"
        },
        {
          "data": {
            "text/plain": [
              "<Figure size 432x288 with 0 Axes>"
            ]
          },
          "metadata": {},
          "output_type": "display_data"
        }
      ],
      "source": [
        "# Choose some nice levels\n",
        "levels = np.tile([-5, 5, -3, 3, -1, 1],\n",
        "                 int(np.ceil(len(dates)/6)))[:len(dates)]\n",
        "\n",
        "# Create figure and plot a stem plot with the date\n",
        "fig, ax = plt.subplots(figsize=(8.8, 4), constrained_layout=True)\n",
        "\n",
        "# TODO: red lines on minor only\n",
        "ax.vlines(dates, 0, levels, color=\"tab:red\")  # The vertical stems.\n",
        "ax.plot(dates, np.zeros_like(dates), \"-o\",\n",
        "        color=\"black\", markerfacecolor=\"white\")  # Baseline and markers on it.\n",
        "\n",
        "releases = list(zip(dates, levels, names))\n",
        "# print(releases[:3])\n",
        "for (date,level,name) in releases:\n",
        "        print(date, name)\n",
        "\n",
        "min_style = dict(textcoords=\"offset points\",\n",
        "                horizontalalignment=\"right\")\n",
        "major_style = dict(\n",
        "        size=10, ha=\"center\", va=\"center\", # rotation=45, \n",
        "        bbox=dict(boxstyle=\"circle,pad=0.3\", fc=\"cyan\", ec=\"b\", lw=2)\n",
        ")\n",
        "\n",
        "# annotate minor releases\n",
        "for a_date, a_level, name in releases:\n",
        "        print(a_date, name)\n",
        "        # if is_minor(name):\n",
        "        #         label = name[:-2]  # \"major.minor\"\n",
        "        # else:\n",
        "        #         continue\n",
        "        label = name\n",
        "        vert=\"bottom\" if a_level > 0 else \"top\"\n",
        "        if label.startswith('3'):\n",
        "                vert = \"top\"\n",
        "        ax.annotate(label, xy=(a_date, a_level),\n",
        "                xytext=(-3, np.sign(a_level)*3),\n",
        "                verticalalignment=vert,\n",
        "                **min_style)\n",
        "\n",
        "# major releases get big blue circle\n",
        "major_pat = re.compile(r'([0-9]+)\\.0')\n",
        "for a_date, a_level, name in releases:\n",
        "        match = major_pat.match(name)\n",
        "        if not match:\n",
        "                continue\n",
        "        label = match.group(1)  # \"major\" (no minor nor micro)\n",
        "        ax.text(a_date, 0, label, **major_style)\n",
        "\n",
        "ax.xaxis.set_major_locator(mdates.MonthLocator(interval=24))\n",
        "ax.xaxis.set_major_formatter(mdates.DateFormatter(\"%Y\"))\n",
        "\n",
        "ax.set(title=f\"{project_name.title()} release dates\")\n",
        "\n",
        "# remove y axis and spines\n",
        "ax.yaxis.set_visible(False)\n",
        "ax.spines[[\"left\", \"top\", \"right\"]].set_visible(False)\n",
        "ax.margins(y=0.2)\n",
        "\n",
        "plt.show()\n",
        "\n",
        "plt.savefig(f\"{project_name}-releases.png\")"
      ]
    },
    {
      "cell_type": "code",
      "execution_count": null,
      "metadata": {},
      "outputs": [],
      "source": []
    }
  ],
  "metadata": {
    "kernelspec": {
      "display_name": "Python 3",
      "language": "python",
      "name": "python3"
    },
    "language_info": {
      "codemirror_mode": {
        "name": "ipython",
        "version": 3
      },
      "file_extension": ".py",
      "mimetype": "text/x-python",
      "name": "python",
      "nbconvert_exporter": "python",
      "pygments_lexer": "ipython3",
      "version": "3.9.9"
    }
  },
  "nbformat": 4,
  "nbformat_minor": 0
}
