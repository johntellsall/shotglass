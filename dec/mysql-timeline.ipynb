{
  "cells": [
    {
      "cell_type": "code",
      "execution_count": 5,
      "metadata": {
        "collapsed": false
      },
      "outputs": [],
      "source": [
        "%matplotlib inline\n",
        "\n",
        "import re\n",
        "import sqlite3\n",
        "from dataclasses import dataclass, field\n",
        "from datetime import datetime\n",
        "\n",
        "import matplotlib.dates as mdates\n",
        "import matplotlib.pyplot as plt\n",
        "import numpy as np\n",
        "\n",
        "from release import Release\n",
        "\n",
        "\n",
        "con = sqlite3.connect('main.db')\n",
        "\n",
        "line_style = dict(textcoords=\"offset points\",\n",
        "                    horizontalalignment=\"right\")\n",
        "major_style = dict(\n",
        "        size=10, ha=\"center\", va=\"center\",\n",
        "        bbox=dict(boxstyle=\"circle,pad=0.3\", fc=\"cyan\", ec=\"b\", lw=2)\n",
        ")"
      ]
    },
    {
      "cell_type": "code",
      "execution_count": 6,
      "metadata": {
        "collapsed": false
      },
      "outputs": [
        {
          "name": "stdout",
          "output_type": "stream",
          "text": [
            "len(raw_releases)=713\n"
          ]
        }
      ],
      "source": [
        "\n",
        "project_name = 'mysql'\n",
        "\n",
        "sql = f'''\n",
        "select tag, date(creator_dt)\n",
        "from projects join releases on projects.id = releases.project_id\n",
        "where name = '{project_name}'\n",
        "order by 2\n",
        "'''\n",
        "raw_releases = con.execute(sql).fetchall()\n",
        "\n",
        "raw_releases = [Release(tag, date) for tag,date in raw_releases]\n",
        "print(f'{len(raw_releases)=}')\n",
        "# assert 0, [raw_releases[:3]]\n"
      ]
    },
    {
      "cell_type": "code",
      "execution_count": 7,
      "metadata": {},
      "outputs": [
        {
          "name": "stdout",
          "output_type": "stream",
          "text": [
            "len(releases)=16\n"
          ]
        }
      ],
      "source": [
        "# remove uninteresting releases\n",
        "\n",
        "def get_interesting(raw_rels):\n",
        "    \"\"\"\n",
        "    show only the first major.minor; ignore RC and all other micro versions\n",
        "    \"\"\"\n",
        "    already_seen = set()\n",
        "    for rel in raw_releases:\n",
        "            mm = rel.majormin\n",
        "            if mm in already_seen:\n",
        "                    continue\n",
        "            # TODO: skip micro releases\n",
        "            if not rel.date:\n",
        "                    # print(f'?? {rel=}')\n",
        "                    continue\n",
        "            already_seen.add(mm)\n",
        "            yield rel\n",
        "\n",
        "releases = list(get_interesting(raw_releases))\n",
        "print(f'{len(releases)=}')\n",
        "# assert 0, releases[:3]\n"
      ]
    },
    {
      "cell_type": "code",
      "execution_count": 12,
      "metadata": {
        "collapsed": false
      },
      "outputs": [
        {
          "data": {
            "image/png": "[encoded data removed]",
            "text/plain": [
              "<Figure size 633.6x288 with 1 Axes>"
            ]
          },
          "metadata": {
            "needs_background": "light"
          },
          "output_type": "display_data"
        }
      ],
      "source": [
        "\n",
        "# Choose some nice levels\n",
        "raw_levels = [-5, 5, -3, 3, -1, 1]\n",
        "\n",
        "# Create figure and plot a stem plot with the date\n",
        "fig, ax = plt.subplots(figsize=(8.8, 4), constrained_layout=True)\n",
        "ax.set(title=f\"{project_name} release dates\")\n",
        "\n",
        "dates = [rel.date for rel in releases]\n",
        "if 1:\n",
        "        # The vertical stems.\n",
        "        levels = np.tile(raw_levels,\n",
        "                 int(np.ceil(len(dates)/6)))[:len(dates)]\n",
        "        ax.vlines(x=dates, ymin=0, ymax=levels, color=\"tab:red\")  \n",
        "\n",
        "# Baseline and markers on it.\n",
        "ax.plot(dates, np.zeros_like(dates), \"-o\",\n",
        "        color=\"k\", markerfacecolor=\"w\")  \n",
        "\n",
        "# annotate lines\n",
        "for num,rel in enumerate(releases):\n",
        "        level = raw_levels[num % len(raw_levels)]\n",
        "        valign = \"bottom\" if level > 0 else \"top\"\n",
        "        xytext = (-3, np.sign(level)*3)\n",
        "        ax.annotate(rel.majormin, xy=(rel.date, level),\n",
        "                        xytext=xytext,\n",
        "                        verticalalignment=valign,\n",
        "                        **line_style)\n",
        "\n",
        "# major releases get big blue circle\n",
        "major_pat = re.compile(r'([0-9]+)\\.0')\n",
        "for rel in releases:\n",
        "        match = major_pat.match(rel.majormin)\n",
        "        if not match:\n",
        "                continue\n",
        "        label = match.group(1)  # \"major\" (no minor nor micro)\n",
        "        ax.text(rel.date, 0, label, **major_style)\n",
        "\n",
        "# format xaxis with intervals\n",
        "ax.xaxis.set_major_locator(mdates.MonthLocator(interval=12))\n",
        "ax.xaxis.set_major_formatter(mdates.DateFormatter(\"%b %Y\"))\n",
        "plt.setp(ax.get_xticklabels(), rotation=30, ha=\"right\")\n",
        "\n",
        "# remove y axis and spines\n",
        "ax.yaxis.set_visible(False)\n",
        "ax.spines[[\"left\", \"top\", \"right\"]].set_visible(False)\n",
        "\n",
        "ax.margins(y=0.1)\n",
        "plt.show()"
      ]
    }
  ],
  "metadata": {
    "kernelspec": {
      "display_name": "Python 3",
      "language": "python",
      "name": "python3"
    },
    "language_info": {
      "codemirror_mode": {
        "name": "ipython",
        "version": 3
      },
      "file_extension": ".py",
      "mimetype": "text/x-python",
      "name": "python",
      "nbconvert_exporter": "python",
      "pygments_lexer": "ipython3",
      "version": "3.9.9"
    }
  },
  "nbformat": 4,
  "nbformat_minor": 0
}
