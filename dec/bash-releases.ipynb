{
  "cells": [
    {
      "cell_type": "code",
      "execution_count": 1,
      "metadata": {
        "collapsed": false
      },
      "outputs": [],
      "source": [
        "%matplotlib inline"
      ]
    },
    {
      "cell_type": "code",
      "execution_count": 22,
      "metadata": {
        "collapsed": false
      },
      "outputs": [
        {
          "name": "stdout",
          "output_type": "stream",
          "text": [
            "raw: 31\n",
            "[('bash-3.0-beta', '2011-12-03'), ('bash-3.0-rc1', '2011-12-03'), ('bash-3.1-alpha', '2011-12-03'), ('bash-3.1-beta', '2011-12-03'), ('bash-3.1-rc1', '2011-12-03'), ('bash-5.0-alpha', '2018-05-22'), ('bash-5.0-beta', '2018-09-17'), ('bash-5.0-beta2', '2018-11-23'), ('bash-5.0-rc1', '2018-12-20'), ('devel-base-dist', '2009-09-12')]\n",
            "\n",
            "['4.0', '4.0.38', '4.1.11'] ['4.3', '4.4', '5.0']\n",
            "[datetime.datetime(2011, 11, 22, 0, 0), datetime.datetime(2011, 11, 22, 0, 0), datetime.datetime(2011, 11, 22, 0, 0)]\n"
          ]
        }
      ],
      "source": [
        "import re\n",
        "import sqlite3\n",
        "from datetime import datetime\n",
        "\n",
        "import matplotlib.dates as mdates\n",
        "import matplotlib.pyplot as plt\n",
        "import numpy as np\n",
        "\n",
        "con = sqlite3.connect('main.db')\n",
        "\n",
        "project_name = 'bash'\n",
        "\n",
        "sql = f'''\n",
        "select tag, date(creator_dt)\n",
        "from projects join releases on projects.id = releases.project_id\n",
        "where name = '{project_name}'\n",
        "'''\n",
        "raw_releases = con.execute(sql).fetchall()\n",
        "# assert 0, raw_releases[:5] + raw_releases[-5:]\n",
        "\n",
        "class Release:\n",
        "    # @staticmethod\n",
        "    # def strip(rawtag):\n",
        "    #     if rawtag.startswith('bash-'):\n",
        "    #         return rawtag.split('-')[1]\n",
        "    #     return None\n",
        "\n",
        "    @staticmethod\n",
        "    def parse(tag):\n",
        "        if tag.startswith('bash-'):\n",
        "            tag = tag.split('-', 1)[1]\n",
        "        rest = ''\n",
        "        if '-' in tag:\n",
        "            tag, rest = tag.split('-', 1)\n",
        "            # assert rest=='', rest\n",
        "        # rest = f'{rest=}'\n",
        "        return tag, rest\n",
        "        # return value.split('.') + [rest]\n",
        "\n",
        "    @classmethod\n",
        "    def is_interesting(cls, tag):\n",
        "        return tag[-1] == ''\n",
        "\n",
        "print(f'raw: {len(raw_releases)}')\n",
        "print(raw_releases[:5] + raw_releases[-5:])\n",
        "print()\n",
        "\n",
        "names, dates=[], []\n",
        "for rel_name,rel_date in raw_releases:\n",
        "    # print(rel_name, Release.parse(rel_name))\n",
        "    value, rest = Release.parse(rel_name)\n",
        "    if rest:\n",
        "        continue\n",
        "    names.append(value)\n",
        "    dates.append(rel_date)\n",
        "\n",
        "print(names[:3], names[-3:])\n",
        "# releases = list(rel for rel in raw_releases if Release.is_interesting(rel[0]))\n",
        "# print(f'rel: {len(releases)}')\n",
        "# print([row[0] for row in releases[:5] + releases[-5:]])\n",
        "# print()\n",
        "\n",
        "# names = [Release.strip(row[0]) for row in releases]\n",
        "# dates = [row[1] for row in releases]\n",
        "dates = [datetime.strptime(d, \"%Y-%m-%d\") for d in dates]\n",
        "print(dates[:3] + dates[-3:])"
      ]
    },
    {
      "cell_type": "code",
      "execution_count": 8,
      "metadata": {
        "collapsed": false
      },
      "outputs": [
        {
          "name": "stdout",
          "output_type": "stream",
          "text": [
            "[(datetime.datetime(2011, 12, 3, 0, 0), -5, '3.0'), (datetime.datetime(2011, 12, 3, 0, 0), 5, '3.0'), (datetime.datetime(2011, 12, 3, 0, 0), -3, '3.1')]\n",
            "3.0 False\n",
            "3.0 False\n",
            "3.1 False\n",
            "3.1 False\n",
            "3.1 False\n",
            "3.1 False\n",
            "3.2 False\n",
            "3.2 False\n",
            "4.0 False\n",
            "4.0 False\n",
            "4.0.38 False\n",
            "4.1.11 False\n",
            "4.2 False\n",
            "4.3 False\n",
            "4.3 False\n",
            "4.3 False\n",
            "4.3 False\n",
            "4.3 False\n",
            "4.3 False\n",
            "4.4 False\n",
            "4.4 False\n",
            "4.4 False\n",
            "4.4 False\n",
            "4.4 False\n",
            "4.4 False\n",
            "5.0 False\n",
            "5.0 False\n",
            "5.0 False\n",
            "5.0 False\n",
            "5.0 False\n"
          ]
        },
        {
          "data": {
            "image/png": "[encoded data removed]",
            "text/plain": [
              "<Figure size 633.6x288 with 1 Axes>"
            ]
          },
          "metadata": {
            "needs_background": "light"
          },
          "output_type": "display_data"
        },
        {
          "data": {
            "text/plain": [
              "<Figure size 432x288 with 0 Axes>"
            ]
          },
          "metadata": {},
          "output_type": "display_data"
        }
      ],
      "source": [
        "# Choose some nice levels\n",
        "levels = np.tile([-5, 5, -3, 3, -1, 1],\n",
        "                 int(np.ceil(len(dates)/6)))[:len(dates)]\n",
        "releases = list(zip(dates, levels, names))\n",
        "\n",
        "# Create figure and plot a stem plot with the date\n",
        "fig, ax = plt.subplots(figsize=(8.8, 4), constrained_layout=True)\n",
        "\n",
        "# TODO: red lines on minor only\n",
        "ax.vlines(dates, 0, levels, color=\"tab:red\")  # The vertical stems.\n",
        "ax.plot(dates, np.zeros_like(dates), \"-o\",\n",
        "        color=\"black\", markerfacecolor=\"white\")  # Baseline and markers on it.\n",
        "\n",
        "print(releases[:3])\n",
        "\n",
        "def is_major(version):\n",
        "        nums = Release.parse(version)\n",
        "        if not nums:\n",
        "                print(f'?? {version}')\n",
        "                return False\n",
        "        return len(nums) == 2 and nums[-1] == ['0']\n",
        "\n",
        "def is_minor(version):\n",
        "        return True\n",
        "        # nums = Release.parse(version)\n",
        "        # if not nums:\n",
        "        #         print(f'?? {version}')\n",
        "        #         return False\n",
        "        # return len(nums) == 3 and nums[-1] == '0'\n",
        "\n",
        "min_style = dict(textcoords=\"offset points\",\n",
        "                horizontalalignment=\"right\")\n",
        "major_style = dict(\n",
        "        size=10, ha=\"center\", va=\"center\", # rotation=45, \n",
        "        bbox=dict(boxstyle=\"circle,pad=0.3\", fc=\"cyan\", ec=\"b\", lw=2)\n",
        ")\n",
        "\n",
        "# annotate minor releases\n",
        "for a_date, a_level, name in releases:\n",
        "        if is_minor(name):\n",
        "                label = name  # \"major.minor\"\n",
        "        else:\n",
        "                continue\n",
        "        ax.annotate(label, xy=(a_date, a_level),\n",
        "                xytext=(-3, np.sign(a_level)*3),\n",
        "                verticalalignment=\"bottom\" if a_level > 0 else \"top\",\n",
        "                **min_style)\n",
        "\n",
        "# major releases get big blue circle\n",
        "for a_date, a_level, name in releases:\n",
        "        print(name, is_major(name))\n",
        "        if not is_major(name):\n",
        "                continue\n",
        "        label = name[:-4]  # \"major\" (no minor nor micro)\n",
        "        ax.text(a_date, 0, label, **major_style)\n",
        "\n",
        "ax.xaxis.set_major_locator(mdates.MonthLocator(interval=12))\n",
        "ax.xaxis.set_major_formatter(mdates.DateFormatter(\"%Y\"))\n",
        "\n",
        "ax.set(title=f\"{project_name.title()} release dates\")\n",
        "\n",
        "# remove y axis and spines\n",
        "ax.yaxis.set_visible(False)\n",
        "ax.spines[[\"left\", \"top\", \"right\"]].set_visible(False)\n",
        "ax.margins(y=0.2)\n",
        "\n",
        "plt.show()\n",
        "\n",
        "plt.savefig(f\"{project_name}-releases.png\")"
      ]
    },
    {
      "cell_type": "code",
      "execution_count": null,
      "metadata": {},
      "outputs": [],
      "source": []
    }
  ],
  "metadata": {
    "kernelspec": {
      "display_name": "Python 3",
      "language": "python",
      "name": "python3"
    },
    "language_info": {
      "codemirror_mode": {
        "name": "ipython",
        "version": 3
      },
      "file_extension": ".py",
      "mimetype": "text/x-python",
      "name": "python",
      "nbconvert_exporter": "python",
      "pygments_lexer": "ipython3",
      "version": "3.9.9"
    }
  },
  "nbformat": 4,
  "nbformat_minor": 0
}
