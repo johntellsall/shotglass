{
 "cells": [
  {
   "cell_type": "markdown",
   "metadata": {},
   "source": [
    "# Shotglass: Coreutils code information\n",
    "\n",
    "## releases over time\n",
    "\n"
   ]
  },
  {
   "cell_type": "code",
   "execution_count": 106,
   "metadata": {},
   "outputs": [
    {
     "name": "stdout",
     "output_type": "stream",
     "text": [
      "3.36.0\n"
     ]
    }
   ],
   "source": [
    "import pandas as pd\n",
    "import seaborn as sns\n",
    "from matplotlib import pyplot as plt\n",
    "\n",
    "import shotlib\n",
    "from shotlib import select1, selectall\n",
    "\n",
    "db,_curs = shotlib.get_db()\n",
    "print(select1(_curs, 'select sqlite_version()'))"
   ]
  },
  {
   "cell_type": "code",
   "execution_count": 130,
   "metadata": {},
   "outputs": [],
   "source": [
    "# STYLES ====\n",
    "#\n",
    "bbox = dict(boxstyle=\"round\", fc=\"0.8\")\n",
    "arrowprops = dict(\n",
    "    arrowstyle=\"->\",\n",
    "    connectionstyle=\"angle,angleA=0,angleB=90,rad=10\")\n"
   ]
  },
  {
   "cell_type": "code",
   "execution_count": 132,
   "metadata": {},
   "outputs": [
    {
     "data": {
      "text/html": [
       "<div>\n",
       "<style scoped>\n",
       "    .dataframe tbody tr th:only-of-type {\n",
       "        vertical-align: middle;\n",
       "    }\n",
       "\n",
       "    .dataframe tbody tr th {\n",
       "        vertical-align: top;\n",
       "    }\n",
       "\n",
       "    .dataframe thead th {\n",
       "        text-align: right;\n",
       "    }\n",
       "</style>\n",
       "<table border=\"1\" class=\"dataframe\">\n",
       "  <thead>\n",
       "    <tr style=\"text-align: right;\">\n",
       "      <th></th>\n",
       "      <th>year</th>\n",
       "      <th>tag</th>\n",
       "    </tr>\n",
       "  </thead>\n",
       "  <tbody>\n",
       "    <tr>\n",
       "      <th>0</th>\n",
       "      <td>2003</td>\n",
       "      <td>v5.0</td>\n",
       "    </tr>\n",
       "    <tr>\n",
       "      <th>1</th>\n",
       "      <td>2006</td>\n",
       "      <td>v6.0</td>\n",
       "    </tr>\n",
       "    <tr>\n",
       "      <th>2</th>\n",
       "      <td>2008</td>\n",
       "      <td>v7.0</td>\n",
       "    </tr>\n",
       "    <tr>\n",
       "      <th>3</th>\n",
       "      <td>2009</td>\n",
       "      <td>v8.0</td>\n",
       "    </tr>\n",
       "    <tr>\n",
       "      <th>4</th>\n",
       "      <td>2021</td>\n",
       "      <td>v9.0</td>\n",
       "    </tr>\n",
       "  </tbody>\n",
       "</table>\n",
       "</div>"
      ],
      "text/plain": [
       "   year   tag\n",
       "0  2003  v5.0\n",
       "1  2006  v6.0\n",
       "2  2008  v7.0\n",
       "3  2009  v8.0\n",
       "4  2021  v9.0"
      ]
     },
     "execution_count": 132,
     "metadata": {},
     "output_type": "execute_result"
    }
   ],
   "source": [
    "# GET DATA ====\n",
    "#\n",
    "# -- number of releases per year\n",
    "releases_by_year_sql = '''\n",
    "    select strftime('%Y', creator_dt) as year,\n",
    "    count(*) as releases\n",
    "    from releases\n",
    "    where tag like 'v%'\n",
    "    group by 1\n",
    "'''\n",
    "relbyyear_df = pd.read_sql_query(releases_by_year_sql, db)\n",
    "relbyyear_df.head()\n",
    "\n",
    "# -- year of each major release\n",
    "relmajor_df = pd.read_sql_query(\n",
    "    \"\"\"\n",
    "    select strftime('%Y', creator_dt) as year,\n",
    "    tag\n",
    "    from releases\n",
    "    where tag like 'v_.0' -- TODO major versions e.g. x.0\n",
    "    \"\"\",\n",
    "    db)\n",
    "relmajor_df.head()\n",
    "\n",
    "\n"
   ]
  },
  {
   "cell_type": "code",
   "execution_count": 141,
   "metadata": {},
   "outputs": [
    {
     "data": {
      "image/png": "[encoded data removed]",
      "text/plain": [
       "<Figure size 360x360 with 1 Axes>"
      ]
     },
     "metadata": {
      "needs_background": "light"
     },
     "output_type": "display_data"
    }
   ],
   "source": [
    "\n",
    "# CONSTANTS ====\n",
    "#\n",
    "# (2013, 5.5, \"8.21\"),\n",
    "\n",
    "# PLOT ====\n",
    "#\n",
    "# fig, ax = plt.subplots()\n",
    "# ax.set_xlim(2000, 2020)\n",
    "# ax.set_ylim(0, 10)\n",
    "text_style = dict(horizontalalignment='left', size='medium', color='black', weight='semibold')\n",
    "\n",
    "g = sns.relplot(data=relbyyear_df, x='year', y='releases', kind='line')\n",
    "y = 5\n",
    "for num in range(relmajor_df.shape[0]):\n",
    "    label = relmajor_df.tag[num].rstrip('.0')\n",
    "    plt.text(relmajor_df.year[num], y, label, **text_style)\n",
    "\n",
    "# format xaxis with 4 month intervals\n",
    "# ax.xaxis.set_major_locator(mdates.MonthLocator(interval=4))\n",
    "# ax.xaxis.set_major_formatter(mdates.DateFormatter(\"%b %Y\"))\n",
    "# plt.setp(ax.get_xticklabels(), rotation=30, ha=\"right\")\n",
    "\n",
    "plt.show()\n",
    "# plt.text(2009, 5.5, \"8.0\")\n",
    "# plt.show()\n"
   ]
  },
  {
   "cell_type": "code",
   "execution_count": 110,
   "metadata": {},
   "outputs": [
    {
     "data": {
      "image/png": "[encoded data removed]",
      "text/plain": [
       "<Figure size 432x288 with 1 Axes>"
      ]
     },
     "metadata": {
      "needs_background": "light"
     },
     "output_type": "display_data"
    }
   ],
   "source": [
    "# LABELS ====\n",
    "#\n",
    "if 0:\n",
    "    for (year, y, label) in releases:\n",
    "        ax.text(x=year, y=y, s=label)\n",
    "elif 0:\n",
    "    first = 2002\n",
    "    plt.text(2002-first, 4.5, \"4.5\") # , transform=ax.transAxes)\n",
    "    # , horizontalalignment='left', size='medium', color='black', weight='semibold')\n",
    "    plt.text(2003-first, 5.5, \"5.0\", horizontalalignment='left', size='medium', color='black', weight='semibold')\n",
    "    plt.text(2006-first, 5.5, \"6.0\")\n",
    "    plt.text(2008-first, 5.5, \"7.0\")\n",
    "    plt.text(2009-first, 5.5, \"8.0\")\n",
    "    plt.text(2013, 5.5, \"8.21\", textcoords='offset points')\n",
    "    plt.text(2021-first, 5.5, \"9.0\")\n",
    "elif 0:\n",
    "    offset = 72\n",
    "    ax.annotate('BEER',\n",
    "            (2002, 4.5), xytext=(-2*offset, offset), textcoords='offset points',\n",
    "            bbox=bbox, arrowprops=arrowprops)\n",
    "    ax.text(2002, 4.5, \"GIN\") # , transform=ax.transAxes)\n",
    "\n",
    "first = 2002\n",
    "plt.text(2002-first, 4.5, \"4.5\") # , transform=ax.transAxes)\n",
    "\n",
    "plt.show()"
   ]
  },
  {
   "cell_type": "code",
   "execution_count": 111,
   "metadata": {},
   "outputs": [],
   "source": [
    "# sns.heatmap(corr, mask=mask, cmap=cmap, vmax=.3, center=0,\n",
    "#             square=True, linewidths=.5, cbar_kws={\"shrink\": .5})\n",
    "# releases_by_month_sql = '''\n",
    "# select strftime('%Y', creator_dt) as month,\n",
    "# count(*) as monthly_releases\n",
    "# from releases\n",
    "# group by 1\n",
    "# '''\n",
    "# releases_df = pd.read_sql_query(releases_by_month_sql, db)\n",
    "# releases_df.head()\n",
    "# sns.heatmap(releases_df)\n",
    "# , mask=mask, cmap=cmap, vmax=.3, center=0,\n",
    "#             square=True, linewidths=.5, cbar_kws={\"shrink\": .5})"
   ]
  },
  {
   "cell_type": "markdown",
   "metadata": {},
   "source": [
    "## demo: Data vs Figure plotting axes\n",
    "\n",
    "* https://matplotlib.org/stable/tutorials/advanced/transforms_tutorial.html"
   ]
  },
  {
   "cell_type": "code",
   "execution_count": 112,
   "metadata": {},
   "outputs": [
    {
     "data": {
      "image/png": "[encoded data removed]",
      "text/plain": [
       "<Figure size 432x288 with 1 Axes>"
      ]
     },
     "metadata": {
      "needs_background": "light"
     },
     "output_type": "display_data"
    }
   ],
   "source": [
    "import numpy as np\n",
    "\n",
    "# styles:\n",
    "bbox = dict(boxstyle=\"round\", facecolor=\"0.8\")\n",
    "arrowprops = dict(\n",
    "    arrowstyle=\"->\",\n",
    "    connectionstyle=\"angle,angleA=0,angleB=90,rad=10\")\n",
    "ann_style = dict(\n",
    "    textcoords='offset points',\n",
    "    bbox=bbox, arrowprops=arrowprops)\n",
    "\n",
    "# data:\n",
    "x = np.arange(0, 10, 0.005)\n",
    "y = np.exp(-x/2.) * np.sin(2*np.pi*x)\n",
    "\n",
    "# plot:\n",
    "fig, ax = plt.subplots()\n",
    "ax.plot(x, y)\n",
    "ax.set_xlim(0, 10)\n",
    "ax.set_ylim(-1, 1)\n",
    "\n",
    "xdata, ydata = 5, 0\n",
    "# This computing the transform now, if anything\n",
    "# (figure size, dpi, axes placement, data limits, scales..)\n",
    "# changes re-calling transform will get a different value.\n",
    "xdisplay, ydisplay = ax.transData.transform((xdata, ydata))\n",
    "\n",
    "offset = 72\n",
    "ax.annotate('data = (%.1f, %.1f)' % (xdata, ydata),\n",
    "            (xdata, ydata),  # arrow aims here: data coords\n",
    "            xytext=(1*offset, offset),  # text label\n",
    "            **ann_style)\n",
    "\n",
    "if True:\n",
    "    ax.annotate('display = (%.1f, %.1f)' % (xdisplay, ydisplay),\n",
    "                (xdisplay, ydisplay),  # figure coords\n",
    "                xytext=(0.5*offset, -offset),\n",
    "                xycoords='figure pixels',\n",
    "                **ann_style)\n",
    "\n",
    "plt.show()"
   ]
  }
 ],
 "metadata": {
  "interpreter": {
   "hash": "f51022464c3c6e3bfc8fb1b120f3fa9273410ddfccd4fedfbe2f9733b052d04a"
  },
  "kernelspec": {
   "display_name": "Python 3.9.8 64-bit",
   "language": "python",
   "name": "python3"
  },
  "language_info": {
   "codemirror_mode": {
    "name": "ipython",
    "version": 3
   },
   "file_extension": ".py",
   "mimetype": "text/x-python",
   "name": "python",
   "nbconvert_exporter": "python",
   "pygments_lexer": "ipython3",
   "version": "3.9.8"
  },
  "orig_nbformat": 4
 },
 "nbformat": 4,
 "nbformat_minor": 2
}
