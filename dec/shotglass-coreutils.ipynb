{
 "cells": [
  {
   "cell_type": "markdown",
   "metadata": {},
   "source": [
    "# Shotglass: Coreutils code information\n",
    "\n",
    "## releases over time\n",
    "\n"
   ]
  },
  {
   "cell_type": "code",
   "execution_count": 16,
   "metadata": {},
   "outputs": [
    {
     "name": "stdout",
     "output_type": "stream",
     "text": [
      "3.36.0\n"
     ]
    }
   ],
   "source": [
    "import pandas as pd\n",
    "import seaborn as sns\n",
    "from matplotlib import pyplot as plt\n",
    "\n",
    "import shotlib\n",
    "from shotlib import select1, selectall\n",
    "\n",
    "db,_curs = shotlib.get_db()\n",
    "print(select1(_curs, 'select sqlite_version()'))"
   ]
  },
  {
   "cell_type": "code",
   "execution_count": 21,
   "metadata": {},
   "outputs": [],
   "source": [
    "releases_df = pd.read_sql_query('select tag, creator_dt from releases limit 3', db)\n",
    "\n",
    "# convert raw list of tuples to DataFrame\n",
    "# > releases_df = selectall(db, 'select tag, creator_dt from releases limit 3')\n",
    "# > df = pandas.DataFrame(releases, columns=['tag', 'creator_dt'])\n"
   ]
  },
  {
   "cell_type": "code",
   "execution_count": 22,
   "metadata": {},
   "outputs": [
    {
     "data": {
      "text/plain": [
       "<seaborn.axisgrid.FacetGrid at 0x1345adac0>"
      ]
     },
     "execution_count": 22,
     "metadata": {},
     "output_type": "execute_result"
    },
    {
     "data": {
      "image/png": "[encoded data removed]",
      "text/plain": [
       "<Figure size 360x360 with 1 Axes>"
      ]
     },
     "metadata": {
      "needs_background": "light"
     },
     "output_type": "display_data"
    }
   ],
   "source": [
    "sns.displot(data=releases_df['creator_dt'])\n"
   ]
  }
 ],
 "metadata": {
  "interpreter": {
   "hash": "f51022464c3c6e3bfc8fb1b120f3fa9273410ddfccd4fedfbe2f9733b052d04a"
  },
  "kernelspec": {
   "display_name": "Python 3.9.8 64-bit",
   "language": "python",
   "name": "python3"
  },
  "language_info": {
   "codemirror_mode": {
    "name": "ipython",
    "version": 3
   },
   "file_extension": ".py",
   "mimetype": "text/x-python",
   "name": "python",
   "nbconvert_exporter": "python",
   "pygments_lexer": "ipython3",
   "version": "3.9.8"
  },
  "orig_nbformat": 4
 },
 "nbformat": 4,
 "nbformat_minor": 2
}
