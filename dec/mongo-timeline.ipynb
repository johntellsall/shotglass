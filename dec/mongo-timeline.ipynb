{
  "cells": [
    {
      "cell_type": "code",
      "execution_count": null,
      "metadata": {
        "collapsed": false
      },
      "outputs": [],
      "source": [
        "%matplotlib inline"
      ]
    },
    {
      "cell_type": "code",
      "execution_count": 20,
      "metadata": {
        "collapsed": false
      },
      "outputs": [
        {
          "name": "stdout",
          "output_type": "stream",
          "text": [
            "No major.minor (idxv1=)\n",
            "No major.minor (show=)\n",
            "len(raw_releases)=731\n"
          ]
        }
      ],
      "source": [
        "import matplotlib.pyplot as plt\n",
        "import numpy as np\n",
        "import matplotlib.dates as mdates\n",
        "from datetime import datetime\n",
        "import sqlite3\n",
        "\n",
        "project_name = 'mongo'\n",
        "\n",
        "con = sqlite3.connect('main.db')\n",
        "\n",
        "sql = f'''\n",
        "select tag, date(creator_dt)\n",
        "from projects join releases on projects.id = releases.project_id\n",
        "where name = '{project_name}'\n",
        "order by 2\n",
        "'''\n",
        "raw_releases = con.execute(sql).fetchall()\n",
        "\n",
        "import re\n",
        "from dataclasses import dataclass, field\n",
        "majormin_pat = re.compile(\n",
        "    r'(?P<pre>  .*?)'   # optional before major\n",
        "    r'(?P<majormin>  [0-9]+\\.[0-9]+)'  # major.minor ex \"1.2\"\n",
        "    r'(?P<post>  .*)',   # optional micro and afterwards\n",
        "    re.VERBOSE\n",
        "    )\n",
        "@dataclass\n",
        "class Release:\n",
        "    raw_label: str\n",
        "    majormin: str = field(init=False)\n",
        "    raw_date: str\n",
        "    date: datetime= field(init=False)\n",
        "\n",
        "    def __post_init__(self):\n",
        "        self.majormin = None\n",
        "        if match := majormin_pat.search(self.raw_label):\n",
        "            post = match.group('post')\n",
        "            if not post.startswith('.0'):\n",
        "                # print(f'Ignore micro ({self.raw_label}=)')\n",
        "                return # raise ValueError(f'Ignore micro ({self.raw_label}=)')\n",
        "            self.majormin = match.group('majormin')\n",
        "        else:\n",
        "            print(f'No major.minor ({self.raw_label}=)')\n",
        "            return\n",
        "\n",
        "        self.date = datetime.strptime(self.raw_date, \"%Y-%m-%d\")\n",
        "        \n",
        "\n",
        "raw_releases = [Release(tag, date) for tag,date in raw_releases]\n",
        "print(f'{len(raw_releases)=}')\n",
        "# assert 0, [raw_releases[:3]]\n"
      ]
    },
    {
      "cell_type": "code",
      "execution_count": 27,
      "metadata": {
        "collapsed": false
      },
      "outputs": [
        {
          "name": "stdout",
          "output_type": "stream",
          "text": [
            "len(releases)=35\n"
          ]
        },
        {
          "ename": "AttributeError",
          "evalue": "'Release' object has no attribute 'date'",
          "output_type": "error",
          "traceback": [
            "\u001b[0;31m---------------------------------------------------------------------------\u001b[0m",
            "\u001b[0;31mAttributeError\u001b[0m                            Traceback (most recent call last)",
            "\u001b[0;32m/var/folders/2x/rk74jn2s79qbt_mx92v4q7fh0000gn/T/ipykernel_71854/2388225398.py\u001b[0m in \u001b[0;36m<module>\u001b[0;34m\u001b[0m\n\u001b[1;32m     19\u001b[0m \u001b[0max\u001b[0m\u001b[0;34m.\u001b[0m\u001b[0mset\u001b[0m\u001b[0;34m(\u001b[0m\u001b[0mtitle\u001b[0m\u001b[0;34m=\u001b[0m\u001b[0;34m\"XX Matplotlib release dates\"\u001b[0m\u001b[0;34m)\u001b[0m\u001b[0;34m\u001b[0m\u001b[0;34m\u001b[0m\u001b[0m\n\u001b[1;32m     20\u001b[0m \u001b[0;34m\u001b[0m\u001b[0m\n\u001b[0;32m---> 21\u001b[0;31m \u001b[0mdates\u001b[0m \u001b[0;34m=\u001b[0m \u001b[0;34m[\u001b[0m\u001b[0mrel\u001b[0m\u001b[0;34m.\u001b[0m\u001b[0mdate\u001b[0m \u001b[0;32mfor\u001b[0m \u001b[0mrel\u001b[0m \u001b[0;32min\u001b[0m \u001b[0mreleases\u001b[0m\u001b[0;34m]\u001b[0m\u001b[0;34m\u001b[0m\u001b[0;34m\u001b[0m\u001b[0m\n\u001b[0m\u001b[1;32m     22\u001b[0m \u001b[0;32mif\u001b[0m \u001b[0;36m1\u001b[0m\u001b[0;34m:\u001b[0m\u001b[0;34m\u001b[0m\u001b[0;34m\u001b[0m\u001b[0m\n\u001b[1;32m     23\u001b[0m         \u001b[0;31m# The vertical stems.\u001b[0m\u001b[0;34m\u001b[0m\u001b[0;34m\u001b[0m\u001b[0m\n",
            "\u001b[0;32m/var/folders/2x/rk74jn2s79qbt_mx92v4q7fh0000gn/T/ipykernel_71854/2388225398.py\u001b[0m in \u001b[0;36m<listcomp>\u001b[0;34m(.0)\u001b[0m\n\u001b[1;32m     19\u001b[0m \u001b[0max\u001b[0m\u001b[0;34m.\u001b[0m\u001b[0mset\u001b[0m\u001b[0;34m(\u001b[0m\u001b[0mtitle\u001b[0m\u001b[0;34m=\u001b[0m\u001b[0;34m\"XX Matplotlib release dates\"\u001b[0m\u001b[0;34m)\u001b[0m\u001b[0;34m\u001b[0m\u001b[0;34m\u001b[0m\u001b[0m\n\u001b[1;32m     20\u001b[0m \u001b[0;34m\u001b[0m\u001b[0m\n\u001b[0;32m---> 21\u001b[0;31m \u001b[0mdates\u001b[0m \u001b[0;34m=\u001b[0m \u001b[0;34m[\u001b[0m\u001b[0mrel\u001b[0m\u001b[0;34m.\u001b[0m\u001b[0mdate\u001b[0m \u001b[0;32mfor\u001b[0m \u001b[0mrel\u001b[0m \u001b[0;32min\u001b[0m \u001b[0mreleases\u001b[0m\u001b[0;34m]\u001b[0m\u001b[0;34m\u001b[0m\u001b[0;34m\u001b[0m\u001b[0m\n\u001b[0m\u001b[1;32m     22\u001b[0m \u001b[0;32mif\u001b[0m \u001b[0;36m1\u001b[0m\u001b[0;34m:\u001b[0m\u001b[0;34m\u001b[0m\u001b[0;34m\u001b[0m\u001b[0m\n\u001b[1;32m     23\u001b[0m         \u001b[0;31m# The vertical stems.\u001b[0m\u001b[0;34m\u001b[0m\u001b[0;34m\u001b[0m\u001b[0m\n",
            "\u001b[0;31mAttributeError\u001b[0m: 'Release' object has no attribute 'date'"
          ]
        },
        {
          "data": {
            "image/png": "[encoded data removed]",
            "text/plain": [
              "<Figure size 633.6x288 with 1 Axes>"
            ]
          },
          "metadata": {
            "needs_background": "light"
          },
          "output_type": "display_data"
        }
      ],
      "source": [
        "# show only the first major.minor; ignore RC and all other micro versions\n",
        "releases = []\n",
        "already_seen = set()\n",
        "for rel in raw_releases:\n",
        "        mm = rel.majormin\n",
        "        if mm in already_seen:\n",
        "                continue\n",
        "        already_seen.add(mm)\n",
        "        releases.append(rel)\n",
        "print(f'{len(releases)=}')\n",
        "\n",
        "# Choose some nice levels\n",
        "raw_levels = [-5, 5, -3, 3, -1, 1]\n",
        "levels = np.tile([-5, 5, -3, 3, -1, 1],\n",
        "                 int(np.ceil(len(releases)/6)))[:len(releases)]\n",
        "\n",
        "# Create figure and plot a stem plot with the date\n",
        "fig, ax = plt.subplots(figsize=(8.8, 4), constrained_layout=True)\n",
        "ax.set(title=\"XX Matplotlib release dates\")\n",
        "\n",
        "dates = [rel.date for rel in releases]\n",
        "if 1:\n",
        "        # The vertical stems.\n",
        "        ax.vlines(dates, 0, levels, color=\"tab:red\")  \n",
        "\n",
        "# Baseline and markers on it.\n",
        "ax.plot(dates, np.zeros_like(dates), \"-o\",\n",
        "        color=\"k\", markerfacecolor=\"w\")  \n",
        "\n",
        "# annotate lines\n",
        "line_style = dict(textcoords=\"offset points\",\n",
        "                        horizontalalignment=\"right\")\n",
        "for num,rel in enumerate(releases):\n",
        "        level = raw_levels[num % len(raw_levels)]\n",
        "        valign = \"bottom\" if level > 0 else \"top\"\n",
        "        xytext = (-3, np.sign(level)*3)\n",
        "        ax.annotate(rel.majormin, xy=(rel.date, level),\n",
        "                        xytext=xytext,\n",
        "                        verticalalignment=valign,\n",
        "                        **line_style)\n",
        "\n",
        "# format xaxis with 4 month intervals\n",
        "ax.xaxis.set_major_locator(mdates.MonthLocator(interval=6))\n",
        "ax.xaxis.set_major_formatter(mdates.DateFormatter(\"%b %Y\"))\n",
        "plt.setp(ax.get_xticklabels(), rotation=30, ha=\"right\")\n",
        "\n",
        "# remove y axis and spines\n",
        "ax.yaxis.set_visible(False)\n",
        "ax.spines[[\"left\", \"top\", \"right\"]].set_visible(False)\n",
        "\n",
        "ax.margins(y=0.1)\n",
        "plt.show()"
      ]
    },
    {
      "cell_type": "markdown",
      "metadata": {},
      "source": [
        ".. admonition:: References\n",
        "\n",
        "   The use of the following functions, methods, classes and modules is shown\n",
        "   in this example:\n",
        "\n",
        "   - `matplotlib.axes.Axes.annotate`\n",
        "   - `matplotlib.axes.Axes.vlines`\n",
        "   - `matplotlib.axis.Axis.set_major_locator`\n",
        "   - `matplotlib.axis.Axis.set_major_formatter`\n",
        "   - `matplotlib.dates.MonthLocator`\n",
        "   - `matplotlib.dates.DateFormatter`\n",
        "\n"
      ]
    }
  ],
  "metadata": {
    "kernelspec": {
      "display_name": "Python 3",
      "language": "python",
      "name": "python3"
    },
    "language_info": {
      "codemirror_mode": {
        "name": "ipython",
        "version": 3
      },
      "file_extension": ".py",
      "mimetype": "text/x-python",
      "name": "python",
      "nbconvert_exporter": "python",
      "pygments_lexer": "ipython3",
      "version": "3.9.9"
    }
  },
  "nbformat": 4,
  "nbformat_minor": 0
}
