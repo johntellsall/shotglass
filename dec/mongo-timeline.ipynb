{
  "cells": [
    {
      "cell_type": "code",
      "execution_count": null,
      "metadata": {
        "collapsed": false
      },
      "outputs": [],
      "source": [
        "%matplotlib inline"
      ]
    },
    {
      "cell_type": "code",
      "execution_count": 11,
      "metadata": {
        "collapsed": false
      },
      "outputs": [
        {
          "name": "stdout",
          "output_type": "stream",
          "text": [
            "len(raw_releases)=731\n"
          ]
        },
        {
          "ename": "AssertionError",
          "evalue": "[[Release(raw_label='r0.0.3', majormin='0.0'), Release(raw_label='r0.0.4_rc1', majormin='0.0'), Release(raw_label='r0.0.4_rc2', majormin='0.0')]]",
          "output_type": "error",
          "traceback": [
            "\u001b[0;31m---------------------------------------------------------------------------\u001b[0m",
            "\u001b[0;31mAssertionError\u001b[0m                            Traceback (most recent call last)",
            "\u001b[0;32m/var/folders/2x/rk74jn2s79qbt_mx92v4q7fh0000gn/T/ipykernel_71854/1468456826.py\u001b[0m in \u001b[0;36m<module>\u001b[0;34m\u001b[0m\n\u001b[1;32m     31\u001b[0m \u001b[0mraw_releases\u001b[0m \u001b[0;34m=\u001b[0m \u001b[0;34m[\u001b[0m\u001b[0mRelease\u001b[0m\u001b[0;34m(\u001b[0m\u001b[0mtag\u001b[0m\u001b[0;34m)\u001b[0m \u001b[0;32mfor\u001b[0m \u001b[0mtag\u001b[0m\u001b[0;34m,\u001b[0m\u001b[0m_\u001b[0m \u001b[0;32min\u001b[0m \u001b[0mraw_releases\u001b[0m\u001b[0;34m]\u001b[0m\u001b[0;34m\u001b[0m\u001b[0;34m\u001b[0m\u001b[0m\n\u001b[1;32m     32\u001b[0m \u001b[0mprint\u001b[0m\u001b[0;34m(\u001b[0m\u001b[0;34mf'{len(raw_releases)=}'\u001b[0m\u001b[0;34m)\u001b[0m\u001b[0;34m\u001b[0m\u001b[0;34m\u001b[0m\u001b[0m\n\u001b[0;32m---> 33\u001b[0;31m \u001b[0;32massert\u001b[0m \u001b[0;36m0\u001b[0m\u001b[0;34m,\u001b[0m \u001b[0;34m[\u001b[0m\u001b[0mraw_releases\u001b[0m\u001b[0;34m[\u001b[0m\u001b[0;34m:\u001b[0m\u001b[0;36m3\u001b[0m\u001b[0;34m]\u001b[0m\u001b[0;34m]\u001b[0m\u001b[0;34m\u001b[0m\u001b[0;34m\u001b[0m\u001b[0m\n\u001b[0m\u001b[1;32m     34\u001b[0m     \u001b[0;31m# dates = [datetime.strptime(d, \"%Y-%m-%d\") for d in dates]\u001b[0m\u001b[0;34m\u001b[0m\u001b[0;34m\u001b[0m\u001b[0m\n",
            "\u001b[0;31mAssertionError\u001b[0m: [[Release(raw_label='r0.0.3', majormin='0.0'), Release(raw_label='r0.0.4_rc1', majormin='0.0'), Release(raw_label='r0.0.4_rc2', majormin='0.0')]]"
          ]
        }
      ],
      "source": [
        "import matplotlib.pyplot as plt\n",
        "import numpy as np\n",
        "import matplotlib.dates as mdates\n",
        "from datetime import datetime\n",
        "import sqlite3\n",
        "\n",
        "project_name = 'mongo'\n",
        "\n",
        "con = sqlite3.connect('main.db')\n",
        "\n",
        "sql = f'''\n",
        "select tag, date(creator_dt)\n",
        "from projects join releases on projects.id = releases.project_id\n",
        "where name = '{project_name}'\n",
        "order by 2\n",
        "'''\n",
        "raw_releases = con.execute(sql).fetchall()\n",
        "\n",
        "import re\n",
        "from dataclasses import dataclass, field\n",
        "majormin_pat = re.compile(r'[0-9]+\\.[0-9]+')\n",
        "@dataclass\n",
        "class Release:\n",
        "    raw_label: str\n",
        "    majormin: str = field(init=False)\n",
        "    \n",
        "    def __post_init__(self):\n",
        "        self.majormin = None\n",
        "        if match := majormin_pat.search(self.raw_label):\n",
        "            self.majormin = match.group(0)\n",
        "\n",
        "raw_releases = [Release(tag) for tag,_ in raw_releases]\n",
        "print(f'{len(raw_releases)=}')\n",
        "assert 0, [raw_releases[:3]]\n",
        "    # dates = [datetime.strptime(d, \"%Y-%m-%d\") for d in dates]\n"
      ]
    },
    {
      "cell_type": "code",
      "execution_count": null,
      "metadata": {
        "collapsed": false
      },
      "outputs": [],
      "source": [
        "# Choose some nice levels\n",
        "levels = np.tile([-5, 5, -3, 3, -1, 1],\n",
        "                 int(np.ceil(len(dates)/6)))[:len(dates)]\n",
        "\n",
        "# Create figure and plot a stem plot with the date\n",
        "fig, ax = plt.subplots(figsize=(8.8, 4), constrained_layout=True)\n",
        "ax.set(title=\"Matplotlib release dates\")\n",
        "\n",
        "ax.vlines(dates, 0, levels, color=\"tab:red\")  # The vertical stems.\n",
        "ax.plot(dates, np.zeros_like(dates), \"-o\",\n",
        "        color=\"k\", markerfacecolor=\"w\")  # Baseline and markers on it.\n",
        "\n",
        "# annotate lines\n",
        "for d, l, r in zip(dates, levels, names):\n",
        "    ax.annotate(r, xy=(d, l),\n",
        "                xytext=(-3, np.sign(l)*3), textcoords=\"offset points\",\n",
        "                horizontalalignment=\"right\",\n",
        "                verticalalignment=\"bottom\" if l > 0 else \"top\")\n",
        "\n",
        "# format xaxis with 4 month intervals\n",
        "ax.xaxis.set_major_locator(mdates.MonthLocator(interval=4))\n",
        "ax.xaxis.set_major_formatter(mdates.DateFormatter(\"%b %Y\"))\n",
        "plt.setp(ax.get_xticklabels(), rotation=30, ha=\"right\")\n",
        "\n",
        "# remove y axis and spines\n",
        "ax.yaxis.set_visible(False)\n",
        "ax.spines[[\"left\", \"top\", \"right\"]].set_visible(False)\n",
        "\n",
        "ax.margins(y=0.1)\n",
        "plt.show()"
      ]
    },
    {
      "cell_type": "markdown",
      "metadata": {},
      "source": [
        ".. admonition:: References\n",
        "\n",
        "   The use of the following functions, methods, classes and modules is shown\n",
        "   in this example:\n",
        "\n",
        "   - `matplotlib.axes.Axes.annotate`\n",
        "   - `matplotlib.axes.Axes.vlines`\n",
        "   - `matplotlib.axis.Axis.set_major_locator`\n",
        "   - `matplotlib.axis.Axis.set_major_formatter`\n",
        "   - `matplotlib.dates.MonthLocator`\n",
        "   - `matplotlib.dates.DateFormatter`\n",
        "\n"
      ]
    }
  ],
  "metadata": {
    "kernelspec": {
      "display_name": "Python 3",
      "language": "python",
      "name": "python3"
    },
    "language_info": {
      "codemirror_mode": {
        "name": "ipython",
        "version": 3
      },
      "file_extension": ".py",
      "mimetype": "text/x-python",
      "name": "python",
      "nbconvert_exporter": "python",
      "pygments_lexer": "ipython3",
      "version": "3.9.9"
    }
  },
  "nbformat": 4,
  "nbformat_minor": 0
}
