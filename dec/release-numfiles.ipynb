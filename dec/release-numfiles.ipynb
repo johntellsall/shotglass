{
  "cells": [
    {
      "cell_type": "code",
      "execution_count": 22,
      "metadata": {
        "collapsed": false
      },
      "outputs": [],
      "source": [
        "%matplotlib inline\n",
        "\n",
        "import sqlite3\n",
        "from dataclasses import dataclass, field\n",
        "\n",
        "import matplotlib.dates as mdates\n",
        "import matplotlib.pyplot as plt\n",
        "import numpy as np\n",
        "import seaborn as sns\n",
        "from pathlib import Path\n",
        "\n",
        "from release import count_release_files, Release\n",
        "\n",
        "\n",
        "con = sqlite3.connect('main.db')\n"
      ]
    },
    {
      "cell_type": "code",
      "execution_count": 23,
      "metadata": {
        "collapsed": false
      },
      "outputs": [
        {
          "name": "stdout",
          "output_type": "stream",
          "text": [
            "len(raw_releases)=38\n"
          ]
        }
      ],
      "source": [
        "\n",
        "project_name = 'flask'\n",
        "\n",
        "sql = f'''\n",
        "select tag, date(creator_dt)\n",
        "from projects join releases on projects.id = releases.project_id\n",
        "where name = '{project_name}'\n",
        "order by 2\n",
        "'''\n",
        "raw_releases = con.execute(sql).fetchall()\n",
        "\n",
        "raw_releases = [Release(tag, date) for tag,date in raw_releases]\n",
        "print(f'{len(raw_releases)=}')\n",
        "# assert 0, [raw_releases[:3]]\n"
      ]
    },
    {
      "cell_type": "code",
      "execution_count": 28,
      "metadata": {
        "collapsed": false
      },
      "outputs": [
        {
          "ename": "AssertionError",
          "evalue": "",
          "output_type": "error",
          "traceback": [
            "\u001b[0;31m---------------------------------------------------------------------------\u001b[0m",
            "\u001b[0;31mAssertionError\u001b[0m                            Traceback (most recent call last)",
            "\u001b[0;32m/var/folders/2x/rk74jn2s79qbt_mx92v4q7fh0000gn/T/ipykernel_75410/2374375472.py\u001b[0m in \u001b[0;36m<module>\u001b[0;34m\u001b[0m\n\u001b[1;32m      4\u001b[0m \u001b[0;34m\u001b[0m\u001b[0m\n\u001b[1;32m      5\u001b[0m \u001b[0mproj_dir\u001b[0m \u001b[0;34m=\u001b[0m \u001b[0mPath\u001b[0m\u001b[0;34m(\u001b[0m\u001b[0;34m'../SOURCE'\u001b[0m\u001b[0;34m)\u001b[0m \u001b[0;34m/\u001b[0m \u001b[0mproject_name\u001b[0m\u001b[0;34m\u001b[0m\u001b[0;34m\u001b[0m\u001b[0m\n\u001b[0;32m----> 6\u001b[0;31m \u001b[0mcount_release_files\u001b[0m\u001b[0;34m(\u001b[0m\u001b[0mproj_dir\u001b[0m\u001b[0;34m,\u001b[0m \u001b[0;34m'1.0'\u001b[0m\u001b[0;34m)\u001b[0m\u001b[0;34m\u001b[0m\u001b[0;34m\u001b[0m\u001b[0m\n\u001b[0m\u001b[1;32m      7\u001b[0m \u001b[0msns\u001b[0m\u001b[0;34m.\u001b[0m\u001b[0mlineplot\u001b[0m\u001b[0;34m(\u001b[0m\u001b[0mx\u001b[0m\u001b[0;34m=\u001b[0m\u001b[0;34m[\u001b[0m\u001b[0;36m0\u001b[0m\u001b[0;34m,\u001b[0m \u001b[0;36m1\u001b[0m\u001b[0;34m]\u001b[0m\u001b[0;34m,\u001b[0m \u001b[0my\u001b[0m\u001b[0;34m=\u001b[0m\u001b[0;34m[\u001b[0m\u001b[0;36m1\u001b[0m\u001b[0;34m,\u001b[0m \u001b[0;36m2\u001b[0m\u001b[0;34m]\u001b[0m\u001b[0;34m)\u001b[0m\u001b[0;34m\u001b[0m\u001b[0;34m\u001b[0m\u001b[0m\n\u001b[1;32m      8\u001b[0m \u001b[0;31m# sns.lineplot(x=\"timepoint\", y=\"signal\",\u001b[0m\u001b[0;34m\u001b[0m\u001b[0;34m\u001b[0m\u001b[0m\n",
            "\u001b[0;32m~/jsrc/shotglass/dec/release.py\u001b[0m in \u001b[0;36mcount_release_files\u001b[0;34m(path, release)\u001b[0m\n\u001b[1;32m     40\u001b[0m     \u001b[0mcmd\u001b[0m \u001b[0;34m=\u001b[0m \u001b[0;34m[\u001b[0m\u001b[0;34m\"git\"\u001b[0m\u001b[0;34m,\u001b[0m \u001b[0;34m\"ls-tree\"\u001b[0m\u001b[0;34m,\u001b[0m \u001b[0;34m\"-r\"\u001b[0m\u001b[0;34m,\u001b[0m \u001b[0;34m\"--name-only\"\u001b[0m\u001b[0;34m,\u001b[0m \u001b[0mrelease\u001b[0m\u001b[0;34m]\u001b[0m\u001b[0;34m\u001b[0m\u001b[0;34m\u001b[0m\u001b[0m\n\u001b[1;32m     41\u001b[0m     \u001b[0mproc\u001b[0m \u001b[0;34m=\u001b[0m \u001b[0msubprocess\u001b[0m\u001b[0;34m.\u001b[0m\u001b[0mrun\u001b[0m\u001b[0;34m(\u001b[0m\u001b[0mcmd\u001b[0m\u001b[0;34m,\u001b[0m \u001b[0mcapture_output\u001b[0m\u001b[0;34m=\u001b[0m\u001b[0;32mTrue\u001b[0m\u001b[0;34m,\u001b[0m \u001b[0mtext\u001b[0m\u001b[0;34m=\u001b[0m\u001b[0;32mTrue\u001b[0m\u001b[0;34m,\u001b[0m \u001b[0mcheck\u001b[0m\u001b[0;34m=\u001b[0m\u001b[0;32mFalse\u001b[0m\u001b[0;34m)\u001b[0m\u001b[0;34m\u001b[0m\u001b[0;34m\u001b[0m\u001b[0m\n\u001b[0;32m---> 42\u001b[0;31m     \u001b[0;32massert\u001b[0m \u001b[0;36m0\u001b[0m\u001b[0;34m,\u001b[0m \u001b[0mproc\u001b[0m\u001b[0;34m.\u001b[0m\u001b[0mstdout\u001b[0m\u001b[0;34m\u001b[0m\u001b[0;34m\u001b[0m\u001b[0m\n\u001b[0m",
            "\u001b[0;31mAssertionError\u001b[0m: "
          ]
        },
        {
          "data": {
            "image/png": "[encoded data removed]",
            "text/plain": [
              "<Figure size 633.6x288 with 1 Axes>"
            ]
          },
          "metadata": {
            "needs_background": "light"
          },
          "output_type": "display_data"
        }
      ],
      "source": [
        "\n",
        "# Create figure\n",
        "fig, ax = plt.subplots(figsize=(8.8, 4), constrained_layout=True)\n",
        "ax.set(title=f\"{project_name} num files per release\")\n",
        "\n",
        "proj_dir = Path('../SOURCE') / project_name\n",
        "count_release_files(proj_dir, '1.0')\n",
        "sns.lineplot(x=[0, 1], y=[1, 2])\n",
        "# sns.lineplot(x=\"timepoint\", y=\"signal\",\n",
        "#              hue=\"region\", style=\"event\",\n",
        "#              data=fmri)\n"
      ]
    },
    {
      "cell_type": "code",
      "execution_count": null,
      "metadata": {},
      "outputs": [],
      "source": [
        "\n",
        "# dates = [rel.date for rel in releases]\n",
        "# if 1:\n",
        "#         # The vertical stems.\n",
        "#         ax.vlines(dates, 0, levels, color=\"tab:red\")  \n",
        "\n",
        "# # Baseline and markers on it.\n",
        "# ax.plot(dates, np.zeros_like(dates), \"-o\",\n",
        "#         color=\"k\", markerfacecolor=\"w\")  \n",
        "\n",
        "# # annotate lines\n",
        "# line_style = dict(textcoords=\"offset points\",\n",
        "#                         horizontalalignment=\"right\")\n",
        "# major_style = dict(\n",
        "#         size=10, ha=\"center\", va=\"center\",\n",
        "#         bbox=dict(boxstyle=\"circle,pad=0.3\", fc=\"cyan\", ec=\"b\", lw=2)\n",
        "# )\n",
        "# for num,rel in enumerate(releases):\n",
        "#         level = raw_levels[num % len(raw_levels)]\n",
        "#         valign = \"bottom\" if level > 0 else \"top\"\n",
        "#         xytext = (-3, np.sign(level)*3)\n",
        "#         ax.annotate(rel.majormin, xy=(rel.date, level),\n",
        "#                         xytext=xytext,\n",
        "#                         verticalalignment=valign,\n",
        "#                         **line_style)\n",
        "\n",
        "# # major releases get big blue circle\n",
        "# major_pat = re.compile(r'([0-9]+)\\.0')\n",
        "# for rel in releases:\n",
        "#         match = major_pat.match(rel.majormin)\n",
        "#         if not match:\n",
        "#                 continue\n",
        "#         label = match.group(1)  # \"major\" (no minor nor micro)\n",
        "#         ax.text(rel.date, 0, label, **major_style)\n",
        "\n",
        "# # format xaxis with intervals\n",
        "# ax.xaxis.set_major_locator(mdates.MonthLocator(interval=6))\n",
        "# ax.xaxis.set_major_formatter(mdates.DateFormatter(\"%b %Y\"))\n",
        "# plt.setp(ax.get_xticklabels(), rotation=30, ha=\"right\")\n",
        "\n",
        "# # remove y axis and spines\n",
        "# ax.yaxis.set_visible(False)\n",
        "# ax.spines[[\"left\", \"top\", \"right\"]].set_visible(False)\n",
        "\n",
        "# ax.margins(y=0.1)\n",
        "# plt.show()"
      ]
    }
  ],
  "metadata": {
    "kernelspec": {
      "display_name": "Python 3",
      "language": "python",
      "name": "python3"
    },
    "language_info": {
      "codemirror_mode": {
        "name": "ipython",
        "version": 3
      },
      "file_extension": ".py",
      "mimetype": "text/x-python",
      "name": "python",
      "nbconvert_exporter": "python",
      "pygments_lexer": "ipython3",
      "version": "3.9.9"
    }
  },
  "nbformat": 4,
  "nbformat_minor": 0
}
