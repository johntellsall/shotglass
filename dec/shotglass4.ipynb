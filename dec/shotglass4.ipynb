{
  "cells": [
    {
      "cell_type": "code",
      "execution_count": 14,
      "metadata": {
        "collapsed": false
      },
      "outputs": [],
      "source": [
        "%matplotlib inline"
      ]
    },
    {
      "cell_type": "markdown",
      "metadata": {},
      "source": [
        "\n",
        "# Creating a timeline with lines, dates, and text\n",
        "\n",
        "How to create a simple timeline using Matplotlib release dates.\n",
        "\n",
        "Timelines can be created with a collection of dates and text. In this example,\n",
        "we show how to create a simple timeline using the dates for recent releases\n",
        "of Matplotlib. First, we'll pull the data from GitHub.\n"
      ]
    },
    {
      "cell_type": "code",
      "execution_count": 15,
      "metadata": {
        "collapsed": false
      },
      "outputs": [
        {
          "name": "stdout",
          "output_type": "stream",
          "text": [
            "[('0.1', '2010-04-16'), ('0.10', '2013-06-13'), ('0.10.1', '2013-06-14')]\n"
          ]
        }
      ],
      "source": [
        "import matplotlib.pyplot as plt\n",
        "import numpy as np\n",
        "import matplotlib.dates as mdates\n",
        "from datetime import datetime\n",
        "import sqlite3\n",
        "\n",
        "con = sqlite3.connect('main.db')\n",
        "\n",
        "\n",
        "if 0:\n",
        "    names = ['v2.2.4', 'v3.0.3', 'v3.0.2', 'v3.0.1', 'v3.0.0', 'v2.2.3',\n",
        "             'v2.2.2', 'v2.2.1', 'v2.2.0', 'v2.1.2', 'v2.1.1', 'v2.1.0',\n",
        "             'v2.0.2', 'v2.0.1', 'v2.0.0', 'v1.5.3', 'v1.5.2', 'v1.5.1',\n",
        "             'v1.5.0', 'v1.4.3', 'v1.4.2', 'v1.4.1', 'v1.4.0']\n",
        "\n",
        "    dates = ['2019-02-26', '2019-02-26', '2018-11-10', '2018-11-10',\n",
        "             '2018-09-18', '2018-08-10', '2018-03-17', '2018-03-16',\n",
        "             '2018-03-06', '2018-01-18', '2017-12-10', '2017-10-07',\n",
        "             '2017-05-10', '2017-05-02', '2017-01-17', '2016-09-09',\n",
        "             '2016-07-03', '2016-01-10', '2015-10-29', '2015-02-16',\n",
        "             '2014-10-26', '2014-10-18', '2014-08-26']\n",
        "\n",
        "    # Convert date strings (e.g. 2014-10-18) to datetime\n",
        "    dates = [datetime.strptime(d, \"%Y-%m-%d\") for d in dates]\n",
        "else:\n",
        "    project_name = 'flask'\n",
        "    sql = f'''\n",
        "    select tag, date(creator_dt)\n",
        "    from projects join releases on projects.id = releases.project_id\n",
        "    where name = '{project_name}'\n",
        "    '''\n",
        "    raw_releases = con.execute(sql).fetchall()\n",
        "    print(raw_releases[:3])\n",
        "    dates = [row[1] for row in raw_releases]\n",
        "    names = [row[0] for row in raw_releases]\n",
        "    dates = [datetime.strptime(d, \"%Y-%m-%d\") for d in dates]\n",
        "\n"
      ]
    },
    {
      "cell_type": "code",
      "execution_count": 18,
      "metadata": {
        "collapsed": false
      },
      "outputs": [
        {
          "data": {
            "image/png": "[encoded data removed]",
            "text/plain": [
              "<Figure size 633.6x288 with 1 Axes>"
            ]
          },
          "metadata": {
            "needs_background": "light"
          },
          "output_type": "display_data"
        }
      ],
      "source": [
        "# Choose some nice levels\n",
        "levels = np.tile([-5, 5, -3, 3, -1, 1],\n",
        "                 int(np.ceil(len(dates)/6)))[:len(dates)]\n",
        "\n",
        "# Create figure and plot a stem plot with the date\n",
        "fig, ax = plt.subplots(figsize=(8.8, 4), constrained_layout=True)\n",
        "\n",
        "ax.vlines(dates, 0, levels, color=\"tab:red\")  # The vertical stems.\n",
        "ax.plot(dates, np.zeros_like(dates), \"-o\",\n",
        "        color=\"black\", markerfacecolor=\"white\")  # Baseline and markers on it.\n",
        "\n",
        "releases = zip(dates, levels, names)\n",
        "# ax.plot(dates, np.zeros_like(dates), \"-o\",\n",
        "#         color=\"black\", markerfacecolor=\"white\")  # Baseline and markers on it.\n",
        "\n",
        "# annotate lines\n",
        "astyle = dict(textcoords=\"offset points\",\n",
        "                horizontalalignment=\"right\")\n",
        "for a_date, a_level, name in releases:\n",
        "        ax.annotate(name, xy=(a_date, a_level),\n",
        "                xytext=(-3, np.sign(a_level)*3),\n",
        "                arrowprops=dict() if name.endswith('0.0') else None,\n",
        "                verticalalignment=\"bottom\" if a_level > 0 else \"top\",\n",
        "                **astyle)\n",
        "\n",
        "if 0:\n",
        "        major_dates = [date for date,_,name in releases if name.endswith('.0.0')]\n",
        "        print(major_dates)\n",
        "\n",
        "# format xaxis with X month intervals\n",
        "ax.xaxis.set_major_locator(mdates.MonthLocator(interval=6))\n",
        "ax.xaxis.set_major_formatter(mdates.DateFormatter(\"%b %Y\"))\n",
        "plt.setp(ax.get_xticklabels(), ha=\"right\")\n",
        "# plt.setp(ax.get_xticklabels(), rotation=30, ha=\"right\")\n",
        "\n",
        "\n",
        "# remove y axis and spines\n",
        "ax.yaxis.set_visible(False)\n",
        "ax.spines[[\"left\", \"top\", \"right\"]].set_visible(False)\n",
        "ax.set(title=f\"{project_name.title()} release dates\")\n",
        "\n",
        "ax.margins(y=0.2)\n",
        "plt.show()"
      ]
    }
  ],
  "metadata": {
    "kernelspec": {
      "display_name": "Python 3",
      "language": "python",
      "name": "python3"
    },
    "language_info": {
      "codemirror_mode": {
        "name": "ipython",
        "version": 3
      },
      "file_extension": ".py",
      "mimetype": "text/x-python",
      "name": "python",
      "nbconvert_exporter": "python",
      "pygments_lexer": "ipython3",
      "version": "3.9.8"
    }
  },
  "nbformat": 4,
  "nbformat_minor": 0
}
